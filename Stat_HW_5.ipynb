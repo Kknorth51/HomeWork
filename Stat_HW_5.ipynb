{
  "nbformat": 4,
  "nbformat_minor": 0,
  "metadata": {
    "colab": {
      "provenance": [],
      "authorship_tag": "ABX9TyNSKxnZZRRE5LxriBjuy9Jx",
      "include_colab_link": true
    },
    "kernelspec": {
      "name": "python3",
      "display_name": "Python 3"
    },
    "language_info": {
      "name": "python"
    }
  },
  "cells": [
    {
      "cell_type": "markdown",
      "metadata": {
        "id": "view-in-github",
        "colab_type": "text"
      },
      "source": [
        "<a href=\"https://colab.research.google.com/github/Kknorth51/HomeWork/blob/main/Stat_HW_5.ipynb\" target=\"_parent\"><img src=\"https://colab.research.google.com/assets/colab-badge.svg\" alt=\"Open In Colab\"/></a>"
      ]
    },
    {
      "cell_type": "code",
      "execution_count": 1,
      "metadata": {
        "id": "mrPSuVhiBoPs"
      },
      "outputs": [],
      "source": [
        "import numpy as np\n",
        "import scipy.stats as stats\n",
        "import math"
      ]
    },
    {
      "cell_type": "markdown",
      "source": [
        "## Тестирование гипотез.\n",
        "1) Когда используется критерий Стьюдента, а когда Z –критерий?"
      ],
      "metadata": {
        "id": "bWBpFf0PEybS"
      }
    },
    {
      "cell_type": "markdown",
      "source": [
        "**Ответ:** критерий Стьюдента используют в том случае, если неизвестна\n",
        " генеральной совокупности (почти всегда), если же нам известна\n",
        " генеральной совокупности, то мы можем применять и Z-критерий. При больших размерах выборок результаты Z-теста и t-теста дают схожие значения p-value."
      ],
      "metadata": {
        "id": "EaBFZmK1FhKq"
      }
    },
    {
      "cell_type": "markdown",
      "source": [
        "2) Проведите тест гипотезы. Утверждается, что шарики для подшипников, изготовленные автоматическим станком, имеют средний диаметр 17 мм.\n",
        "Используя односторонний критерий с α=0,05, проверить эту гипотезу, если в выборке из n=100 шариков средний диаметр оказался равным 17.5 мм, а дисперсия известна и равна 4 кв. мм."
      ],
      "metadata": {
        "id": "44Ra7T2oFoWM"
      }
    },
    {
      "cell_type": "code",
      "source": [
        "x = 17.5\n",
        "M = 17\n",
        "sigma = 2\n",
        "n = 100\n",
        "Z = (x-M)/(sigma/math.sqrt(100))\n",
        "Z_table = stats.norm.ppf(0.95)\n",
        "\n",
        "print(f\"Z = {Z}\")\n",
        "print(f\"Z_table = {round(Z_table, 3)}\")"
      ],
      "metadata": {
        "colab": {
          "base_uri": "https://localhost:8080/"
        },
        "id": "Z7ME8ZowF213",
        "outputId": "353806b7-6026-4e7a-bb33-c99fb90ec106"
      },
      "execution_count": 2,
      "outputs": [
        {
          "output_type": "stream",
          "name": "stdout",
          "text": [
            "Z = 2.5\n",
            "Z_table = 1.645\n"
          ]
        }
      ]
    },
    {
      "cell_type": "markdown",
      "source": [
        "В результате расчета Z > Z_table, следовательно мы имеем достаточно оснований для отклонения нулевой гипотезы."
      ],
      "metadata": {
        "id": "d8F6qkNyGTSd"
      }
    },
    {
      "cell_type": "markdown",
      "source": [
        "3) Проведите тест гипотезы. Продавец утверждает, что средний вес пачки печенья составляет 200 г.\n",
        "Из партии извлечена выборка из 10 пачек. Вес каждой пачки составляет:\n",
        "202, 203, 199, 197, 195, 201, 200, 204, 194, 190.\n",
        "Известно, что их веса распределены нормально.\n",
        "Верно ли утверждение продавца, если учитывать, что доверительная вероятность равна 99%? (Провести двусторонний тест.)"
      ],
      "metadata": {
        "id": "TEzcjB92GbKN"
      }
    },
    {
      "cell_type": "code",
      "source": [
        "data = np.array([202, 203, 199, 197, 195, 201, 200, 204, 194, 190])\n",
        "M = 200\n",
        "x = np.mean(data)\n",
        "std = np.std(data,ddof=1)\n",
        "se = std/math.sqrt(len(data))\n",
        "t = (x - M) / se\n",
        "df = len(data) - 1\n",
        "t_table = stats.t.ppf(1 - 0.01/2, df)\n",
        "\n",
        "if np.abs(t) > t_table:\n",
        "    print(\"Отвергаем нулевую гипотезу\")\n",
        "else:\n",
        "    print(\"Отвергаем альтернативную гипотезу. Утверждение продавца верно, средний вес пачки = 200 гр.\")"
      ],
      "metadata": {
        "colab": {
          "base_uri": "https://localhost:8080/"
        },
        "id": "-FbpxYzSGeey",
        "outputId": "473b629c-cfef-46db-e56f-dc1a6711b976"
      },
      "execution_count": 4,
      "outputs": [
        {
          "output_type": "stream",
          "name": "stdout",
          "text": [
            "Отвергаем альтернативную гипотезу. Утверждение продавца верно, средний вес пачки = 200 гр.\n"
          ]
        }
      ]
    },
    {
      "cell_type": "code",
      "source": [
        "stats.ttest_1samp(data,200)\n",
        "# проверим результат, если p_value > a, то у нас недостаточно оснований, чтобы отклонить нулевую гипотезу"
      ],
      "metadata": {
        "colab": {
          "base_uri": "https://localhost:8080/"
        },
        "id": "5o8Y_zbWG1WZ",
        "outputId": "605c3584-4478-4aac-b4f4-4c7fda655d0c"
      },
      "execution_count": 6,
      "outputs": [
        {
          "output_type": "execute_result",
          "data": {
            "text/plain": [
              "TtestResult(statistic=-1.0651074037450894, pvalue=0.31456660352472854, df=9)"
            ]
          },
          "metadata": {},
          "execution_count": 6
        }
      ]
    },
    {
      "cell_type": "markdown",
      "source": [
        "4) Есть ли статистически значимые различия в росте дочерей?\n",
        "Рост матерей 172, 177, 158, 170, 178,175, 164, 160, 169\n",
        "Рост взрослых дочерей: 173, 175, 162, 174, 175, 168, 155, 170, 160"
      ],
      "metadata": {
        "id": "AkF9g6fjHAQQ"
      }
    },
    {
      "cell_type": "code",
      "source": [
        "mother_height = np.array([172, 177, 158, 170, 178,175, 164, 160, 169])\n",
        "daughter_height = np.array([173, 175, 162, 174, 175, 168, 155, 170, 160])\n",
        "\n",
        "stats.ttest_rel(mother_height, daughter_height)"
      ],
      "metadata": {
        "colab": {
          "base_uri": "https://localhost:8080/"
        },
        "id": "k3IkZkqnHGCz",
        "outputId": "a313a146-1d15-4add-8c4b-9f6d5907615c"
      },
      "execution_count": 7,
      "outputs": [
        {
          "output_type": "execute_result",
          "data": {
            "text/plain": [
              "TtestResult(statistic=0.559522990335608, pvalue=0.5911212354055175, df=8)"
            ]
          },
          "metadata": {},
          "execution_count": 7
        }
      ]
    },
    {
      "cell_type": "markdown",
      "source": [
        "Cтатистически значимых различий нет."
      ],
      "metadata": {
        "id": "MKq8jctrHNq4"
      }
    }
  ]
}