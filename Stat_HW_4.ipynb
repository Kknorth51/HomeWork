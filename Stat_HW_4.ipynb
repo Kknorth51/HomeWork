{
  "nbformat": 4,
  "nbformat_minor": 0,
  "metadata": {
    "colab": {
      "provenance": [],
      "authorship_tag": "ABX9TyNBkVwqMIC/jSbQCdmIfLkC",
      "include_colab_link": true
    },
    "kernelspec": {
      "name": "python3",
      "display_name": "Python 3"
    },
    "language_info": {
      "name": "python"
    }
  },
  "cells": [
    {
      "cell_type": "markdown",
      "metadata": {
        "id": "view-in-github",
        "colab_type": "text"
      },
      "source": [
        "<a href=\"https://colab.research.google.com/github/Kknorth51/HomeWork/blob/main/Stat_HW_4.ipynb\" target=\"_parent\"><img src=\"https://colab.research.google.com/assets/colab-badge.svg\" alt=\"Open In Colab\"/></a>"
      ]
    },
    {
      "cell_type": "code",
      "execution_count": 1,
      "metadata": {
        "id": "draAUtOQWcj8"
      },
      "outputs": [],
      "source": [
        "import math\n",
        "from scipy import stats"
      ]
    },
    {
      "cell_type": "markdown",
      "source": [
        "## Задача №1\n",
        "Случайная непрерывная величина A имеет равномерное распределение на промежутке (200, 800]. Найдите ее среднее значение и дисперсию."
      ],
      "metadata": {
        "id": "Fs2gDHwZWuK8"
      }
    },
    {
      "cell_type": "code",
      "source": [
        "print(f\"Среднее значение: {(200+800)/2}\")\n",
        "print(f\"Дисперсия: {(800-200)**2/12}\")"
      ],
      "metadata": {
        "colab": {
          "base_uri": "https://localhost:8080/"
        },
        "id": "yVT6m2hgWw_6",
        "outputId": "6a079210-423a-43cb-af28-6d4406e4e9ea"
      },
      "execution_count": 2,
      "outputs": [
        {
          "output_type": "stream",
          "name": "stdout",
          "text": [
            "Среднее значение: 500.0\n",
            "Дисперсия: 30000.0\n"
          ]
        }
      ]
    },
    {
      "cell_type": "markdown",
      "source": [
        "## Задача №2\n",
        "О случайной непрерывной равномерно распределенной величине B известно, что ее дисперсия равна 0.2. Можно ли найти правую границу величины B и ее среднее значение зная, что левая граница равна 0.5? Если да, найдите ее."
      ],
      "metadata": {
        "id": "xvUOzsdrW8iO"
      }
    },
    {
      "cell_type": "code",
      "source": [
        "D = 0.2\n",
        "a = 0.5\n",
        "b = math.sqrt(D*12) + a\n",
        "print(f\"Правая граница: {round(b, 2)}\")\n",
        "M = (a+b)/2\n",
        "print(f\"Среднее значение: {round(M,2)}\")"
      ],
      "metadata": {
        "colab": {
          "base_uri": "https://localhost:8080/"
        },
        "id": "DD4jIIj8YFsX",
        "outputId": "862434bc-75a4-4864-fa80-4f5fe93052f2"
      },
      "execution_count": 3,
      "outputs": [
        {
          "output_type": "stream",
          "name": "stdout",
          "text": [
            "Правая граница: 2.05\n",
            "Среднее значение: 1.27\n"
          ]
        }
      ]
    },
    {
      "cell_type": "markdown",
      "source": [
        "## Задача №3\n",
        "Непрерывная случайная величина X распределена нормально и задана плотностью распределения\n",
        "\n",
        "f(x) = (1 / (4 * sqrt(2pi))) * exp((-(x+2)**2) / 32)\n",
        "\n",
        "Найдите:\n",
        "\n",
        "а). M(X)\n",
        "\n",
        "б). D(X)\n",
        "\n",
        "в). std(X) (среднее квадратичное отклонение)"
      ],
      "metadata": {
        "id": "rr3jgZbrYNXN"
      }
    },
    {
      "cell_type": "code",
      "source": [
        "print(\"M(x)= -2\")\n",
        "print(\"std(x)= 4\")\n",
        "print(f\"D(x)= {4**2}\")"
      ],
      "metadata": {
        "colab": {
          "base_uri": "https://localhost:8080/"
        },
        "id": "K-G0DWRHYceK",
        "outputId": "e7f9f767-6e87-4011-ca41-2b694425f5cb"
      },
      "execution_count": 4,
      "outputs": [
        {
          "output_type": "stream",
          "name": "stdout",
          "text": [
            "M(x)= -2\n",
            "std(x)= 4\n",
            "D(x)= 16\n"
          ]
        }
      ]
    },
    {
      "cell_type": "markdown",
      "source": [
        "Задача №4\n",
        "Рост взрослого населения города X имеет нормальное распределение. Причем, средний рост равен 174 см, а среднее квадратичное отклонение равно 8 см.\n",
        "\n",
        "Какова вероятность того, что случайным образом выбранный взрослый человек имеет рост:\n",
        "\n",
        "а) больше 182 см\n",
        "\n",
        "б) больше 190 см\n",
        "\n",
        "в) от 166 см до 190 см\n",
        "\n",
        "г) от 166 см до 182 см\n",
        "\n",
        "д) от 158 см до 190 см\n",
        "\n",
        "е) не выше 150 см или не ниже 190 см\n",
        "\n",
        "ё) не выше 150 см или не ниже 198 см\n",
        "\n",
        "ж) ниже 166 см."
      ],
      "metadata": {
        "id": "jKJSbOIzY5W9"
      }
    },
    {
      "cell_type": "code",
      "source": [
        "def standardize(x_i, x_avg, sigma):\n",
        "    return round((x_i - x_avg)/sigma, 2)"
      ],
      "metadata": {
        "id": "K-yPWLQVY6mL"
      },
      "execution_count": 5,
      "outputs": []
    },
    {
      "cell_type": "code",
      "source": [
        "z = standardize(182, 174, 8)\n",
        "print(f\"a) Значение z = {z}. Определим вероятность роста менее 182 по таблице => 0,8413. \"\n",
        "      f\"Вероятность больше 182 - {round(1-0.8413, 3)}\")"
      ],
      "metadata": {
        "colab": {
          "base_uri": "https://localhost:8080/"
        },
        "id": "LJYpZJgQZAK5",
        "outputId": "e789ceec-ac7d-4510-bb8c-7537eea09312"
      },
      "execution_count": 6,
      "outputs": [
        {
          "output_type": "stream",
          "name": "stdout",
          "text": [
            "a) Значение z = 1.0. Определим вероятность роста менее 182 по таблице => 0,8413. Вероятность больше 182 - 0.159\n"
          ]
        }
      ]
    },
    {
      "cell_type": "code",
      "source": [
        "z = standardize(190, 174, 8)\n",
        "print(f\"б) Значение z = {z}. Определим вероятность роста менее 190 по таблице => 0,9772. \"\n",
        "      f\"Вероятность больше 190 - {round(1-0.9772, 3)}\")"
      ],
      "metadata": {
        "colab": {
          "base_uri": "https://localhost:8080/"
        },
        "id": "Asz4R4EAZFxr",
        "outputId": "eb016a1f-f579-4511-ea93-f1c726dc8565"
      },
      "execution_count": 7,
      "outputs": [
        {
          "output_type": "stream",
          "name": "stdout",
          "text": [
            "б) Значение z = 2.0. Определим вероятность роста менее 190 по таблице => 0,9772. Вероятность больше 190 - 0.023\n"
          ]
        }
      ]
    },
    {
      "cell_type": "code",
      "source": [
        "z2 = standardize(190, 174, 8)\n",
        "z1 = standardize(166, 174, 8)\n",
        "print(f\"в) {z1}, {z2}: определим значения вероятности с помощью калькулятора \"\n",
        "      \"распределения (https://gallery.shinyapps.io/dist_calc/)\")"
      ],
      "metadata": {
        "colab": {
          "base_uri": "https://localhost:8080/"
        },
        "id": "zxzWx7OlZHFV",
        "outputId": "d5193d2d-2b60-4290-a9bf-320ef0f49297"
      },
      "execution_count": 8,
      "outputs": [
        {
          "output_type": "stream",
          "name": "stdout",
          "text": [
            "в) -1.0, 2.0: определим значения вероятности с помощью калькулятора распределения (https://gallery.shinyapps.io/dist_calc/)\n"
          ]
        }
      ]
    },
    {
      "cell_type": "code",
      "source": [
        "z2 = standardize(182, 174, 8)\n",
        "z1 = standardize(166, 174, 8)\n",
        "print(f\"г) {z1}, {z2} => 0,683 (согласно правилу трех сигм)\")"
      ],
      "metadata": {
        "colab": {
          "base_uri": "https://localhost:8080/"
        },
        "id": "T2XTDXteZ5ia",
        "outputId": "a4a5cd0a-9acc-4c24-8795-d5d7b23b8aae"
      },
      "execution_count": 9,
      "outputs": [
        {
          "output_type": "stream",
          "name": "stdout",
          "text": [
            "г) -1.0, 1.0 => 0,683 (согласно правилу трех сигм)\n"
          ]
        }
      ]
    },
    {
      "cell_type": "code",
      "source": [
        "z2 = standardize(190, 174, 8)\n",
        "z1 = standardize(158, 174, 8)\n",
        "print(f\"д) {z1}, {z2} => 0,954 (согласно правилу трех сигм)\")"
      ],
      "metadata": {
        "colab": {
          "base_uri": "https://localhost:8080/"
        },
        "id": "hUar0KA4Z_OH",
        "outputId": "878e05b8-0b9d-45fd-ea06-8648cd272678"
      },
      "execution_count": 10,
      "outputs": [
        {
          "output_type": "stream",
          "name": "stdout",
          "text": [
            "д) -2.0, 2.0 => 0,954 (согласно правилу трех сигм)\n"
          ]
        }
      ]
    },
    {
      "cell_type": "code",
      "source": [
        "z2 = standardize(190, 174, 8)\n",
        "z1 = standardize(150, 174, 8)\n",
        "print(f\"е) {z1}, {z2} => Вероятность: {round(stats.norm.cdf(z1) + (1-stats.norm.cdf(z2)), 4)}\")"
      ],
      "metadata": {
        "colab": {
          "base_uri": "https://localhost:8080/"
        },
        "id": "WTAuxRJOaC8I",
        "outputId": "eedb9cb6-0cc7-4ef8-f265-594d4251526d"
      },
      "execution_count": 11,
      "outputs": [
        {
          "output_type": "stream",
          "name": "stdout",
          "text": [
            "е) -3.0, 2.0 => Вероятность: 0.0241\n"
          ]
        }
      ]
    },
    {
      "cell_type": "code",
      "source": [
        "z2 = standardize(198, 174, 8)\n",
        "z1 = standardize(150, 174, 8)\n",
        "print(f\"ё) {z1}, {z2} => Вероятность: {round(stats.norm.cdf(z1) + (1-stats.norm.cdf(z2)), 4)}\")"
      ],
      "metadata": {
        "colab": {
          "base_uri": "https://localhost:8080/"
        },
        "id": "Ko_3mb58aEv6",
        "outputId": "fd5c429b-c22d-4888-e09e-f40466df2830"
      },
      "execution_count": 12,
      "outputs": [
        {
          "output_type": "stream",
          "name": "stdout",
          "text": [
            "ё) -3.0, 3.0 => Вероятность: 0.0027\n"
          ]
        }
      ]
    },
    {
      "cell_type": "code",
      "source": [
        "print(f\"ж) Определим с помощью python и по калькулятору распределения. \"\n",
        "      f\"Вероятность: {round(stats.norm.cdf(166, 174, 8), 3)}\")\n",
        "print('z', '=', standardize(166, 174, 8))"
      ],
      "metadata": {
        "colab": {
          "base_uri": "https://localhost:8080/"
        },
        "id": "UIfw1VQYaInH",
        "outputId": "22eecefd-d522-450e-8958-a9ef22a1484f"
      },
      "execution_count": 13,
      "outputs": [
        {
          "output_type": "stream",
          "name": "stdout",
          "text": [
            "ж) Определим с помощью python и по калькулятору распределения. Вероятность: 0.159\n",
            "z = -1.0\n"
          ]
        }
      ]
    },
    {
      "cell_type": "markdown",
      "source": [
        "## Задача №5\n",
        "На сколько сигм (средних квадратичных отклонений) отклоняется рост человека, равный 190 см, от математического ожидания роста в популяции, в которой M(X) = 178 см и D(X) = 25 кв.см?"
      ],
      "metadata": {
        "id": "7WsaWszPaPNk"
      }
    },
    {
      "cell_type": "code",
      "source": [
        "Z = (190-178)/5\n",
        "print(f\"Рост человека равный 190 см отклоняется от матиматического ожидания роста в популяции на {Z} сигм \"\n",
        "      f\"(средних квадратичных отклонений)\")"
      ],
      "metadata": {
        "colab": {
          "base_uri": "https://localhost:8080/"
        },
        "id": "Lss8mLIpaY6e",
        "outputId": "c3122d5f-7e44-443f-9d73-109fea064643"
      },
      "execution_count": 14,
      "outputs": [
        {
          "output_type": "stream",
          "name": "stdout",
          "text": [
            "Рост человека равный 190 см отклоняется от матиматического ожидания роста в популяции на 2.4 сигм (средних квадратичных отклонений)\n"
          ]
        }
      ]
    }
  ]
}