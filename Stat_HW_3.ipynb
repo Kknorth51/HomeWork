{
  "nbformat": 4,
  "nbformat_minor": 0,
  "metadata": {
    "colab": {
      "provenance": [],
      "authorship_tag": "ABX9TyPXuRKAUsbOa33Slj7e7L1M",
      "include_colab_link": true
    },
    "kernelspec": {
      "name": "python3",
      "display_name": "Python 3"
    },
    "language_info": {
      "name": "python"
    }
  },
  "cells": [
    {
      "cell_type": "markdown",
      "metadata": {
        "id": "view-in-github",
        "colab_type": "text"
      },
      "source": [
        "<a href=\"https://colab.research.google.com/github/Kknorth51/HomeWork/blob/main/Stat_HW_3.ipynb\" target=\"_parent\"><img src=\"https://colab.research.google.com/assets/colab-badge.svg\" alt=\"Open In Colab\"/></a>"
      ]
    },
    {
      "cell_type": "code",
      "execution_count": null,
      "metadata": {
        "id": "Z1rJI8G8AKrv"
      },
      "outputs": [],
      "source": []
    },
    {
      "cell_type": "markdown",
      "source": [
        "## EDA (exploratory data analysis) или Разведочный анализ"
      ],
      "metadata": {
        "id": "5xrmzfUHBKNo"
      }
    },
    {
      "cell_type": "code",
      "source": [
        "import numpy as np\n",
        "import math"
      ],
      "metadata": {
        "id": "fMO-BT7rBb_F"
      },
      "execution_count": 1,
      "outputs": []
    },
    {
      "cell_type": "markdown",
      "source": [
        "1. Даны значения зарплат из выборки выпускников: 100, 80, 75, 77, 89, 33, 45, 25, 65, 17, 30, 24, 57, 55, 70, 75, 65, 84, 90, 150. Посчитать (желательно без использования статистических методов наподобие std, var, mean) среднее арифметическое, среднее квадратичное отклонение, смещенную и несмещенную оценки дисперсий для данной выборки."
      ],
      "metadata": {
        "id": "nbz45cvhBp0C"
      }
    },
    {
      "cell_type": "code",
      "source": [
        "data = [100, 80, 75, 77, 89, 33, 45, 25, 65, 17, 30, 24, 57, 55, 70, 75, 65, 84, 90, 150]\n",
        "n = len(data)\n",
        "avg = sum(data)/n\n",
        "print(f\"Среднее значение: {avg}\")\n",
        "print(np.mean(data))"
      ],
      "metadata": {
        "colab": {
          "base_uri": "https://localhost:8080/"
        },
        "id": "vlT8WuoxB21E",
        "outputId": "924ceabf-c736-4032-a2a3-933eb2d9a93e"
      },
      "execution_count": 2,
      "outputs": [
        {
          "output_type": "stream",
          "name": "stdout",
          "text": [
            "Среднее значение: 65.3\n",
            "65.3\n"
          ]
        }
      ]
    },
    {
      "cell_type": "code",
      "source": [
        "x_avg = 0\n",
        "for x in data:\n",
        "    x_avg += (x-avg)**2\n",
        "D_1 = x_avg/n\n",
        "print(f\"Смещенная дисперсия: {D_1}\")\n",
        "print(np.var(data))"
      ],
      "metadata": {
        "colab": {
          "base_uri": "https://localhost:8080/"
        },
        "id": "XujwDmvAB8Hb",
        "outputId": "a81c205e-3eb8-4ee5-f511-1cb18c1a9b1a"
      },
      "execution_count": 3,
      "outputs": [
        {
          "output_type": "stream",
          "name": "stdout",
          "text": [
            "Смещенная дисперсия: 950.11\n",
            "950.11\n"
          ]
        }
      ]
    },
    {
      "cell_type": "code",
      "source": [
        "x_avg = 0\n",
        "for x in data:\n",
        "    x_avg += (x-avg)**2\n",
        "D_2 = x_avg/(n-1)\n",
        "print(f\"Несмещенная дисперсия: {D_2}\")\n",
        "print(np.var(data, ddof=1))"
      ],
      "metadata": {
        "colab": {
          "base_uri": "https://localhost:8080/"
        },
        "id": "AR-Y9aDqCB1R",
        "outputId": "f2883147-5595-4ba9-c342-564148d7d89e"
      },
      "execution_count": 4,
      "outputs": [
        {
          "output_type": "stream",
          "name": "stdout",
          "text": [
            "Несмещенная дисперсия: 1000.1157894736842\n",
            "1000.1157894736842\n"
          ]
        }
      ]
    },
    {
      "cell_type": "code",
      "source": [
        "print(f\"Стандартное отклонение для выборки: {math.sqrt(D_2)}\")\n",
        "print(np.std(data, ddof=1))"
      ],
      "metadata": {
        "colab": {
          "base_uri": "https://localhost:8080/"
        },
        "id": "U_QhPN7JCIeL",
        "outputId": "d40617d0-0060-4e8d-8a83-348cc725ecf0"
      },
      "execution_count": 5,
      "outputs": [
        {
          "output_type": "stream",
          "name": "stdout",
          "text": [
            "Стандартное отклонение для выборки: 31.624607341019814\n",
            "31.624607341019814\n"
          ]
        }
      ]
    },
    {
      "cell_type": "markdown",
      "source": [
        "2. В первом ящике находится 8 мячей, из которых 5 - белые. Во втором ящике - 12 мячей, из которых 5 белых. Из первого ящика вытаскивают случайным образом два мяча, из второго - 4. Какова вероятность того, что 3 мяча белые?"
      ],
      "metadata": {
        "id": "XJHxr3bPCKZl"
      }
    },
    {
      "cell_type": "code",
      "source": [
        "w1 = math.comb(5, 2) / math.comb(8, 2) * ((math.comb(5, 1) * math.comb(7, 3)) / math.comb(12, 4))\n",
        "w2 = (math.comb(5, 1) * math.comb(3, 1)) / math.comb(8, 2) * ((math.comb(5, 2) * math.comb(7, 2)) / math.comb(12, 4))\n",
        "w3 = math.comb(3, 2) / math.comb(8, 2) * ((math.comb(5, 3) * math.comb(7, 1)) / math.comb(12, 4))\n",
        "print(f\"Вероятность, что 3 мяча белых: {round(w1+w2+w3, 3)}\")"
      ],
      "metadata": {
        "colab": {
          "base_uri": "https://localhost:8080/"
        },
        "id": "1UGrtnspCVLA",
        "outputId": "7239388c-175a-432d-a443-1ca988b47eee"
      },
      "execution_count": 6,
      "outputs": [
        {
          "output_type": "stream",
          "name": "stdout",
          "text": [
            "Вероятность, что 3 мяча белых: 0.369\n"
          ]
        }
      ]
    },
    {
      "cell_type": "markdown",
      "source": [
        "3. На соревновании по биатлону один из трех спортсменов стреляет и попадает в мишень. Вероятность попадания для первого спортсмена равна 0.9, для второго — 0.8, для третьего — 0.6. Найти вероятность того, что выстрел произведен: a). первым спортсменом б). вторым спортсменом в). третьим спортсменом."
      ],
      "metadata": {
        "id": "xa9rpP8jCegO"
      }
    },
    {
      "cell_type": "code",
      "source": [
        "p = 1/3\n",
        "p1 = 0.9\n",
        "p2 = 0.8\n",
        "p3 = 0.6\n",
        "p_a = p1*p+p2*p+p3*p\n",
        "print(f\"Вероятность для первого спортсмена: {(p1*p/p_a):.2f}\")\n",
        "print(f\"Вероятность для второго спортсмена: {(p2*p/p_a):.2f}\")\n",
        "print(f\"Вероятность для третьего спортсмена: {(p3*p/p_a):.2f}\")"
      ],
      "metadata": {
        "colab": {
          "base_uri": "https://localhost:8080/"
        },
        "id": "ZsAYU0jmCgqD",
        "outputId": "64f8cc89-e598-4ba4-db89-9e75bb0efe85"
      },
      "execution_count": 7,
      "outputs": [
        {
          "output_type": "stream",
          "name": "stdout",
          "text": [
            "Вероятность для первого спортсмена: 0.39\n",
            "Вероятность для второго спортсмена: 0.35\n",
            "Вероятность для третьего спортсмена: 0.26\n"
          ]
        }
      ]
    },
    {
      "cell_type": "markdown",
      "source": [
        "4. В университет на факультеты A и B поступило равное количество студентов, а на факультет C студентов поступило столько же, сколько на A и B вместе. Вероятность того, что студент факультета A сдаст первую сессию, равна 0.8. Для студента факультета B эта вероятность равна 0.7, а для студента факультета C - 0.9. Студент сдал первую сессию. Какова вероятность, что он учится: a). на факультете A б). на факультете B в). на факультете C?"
      ],
      "metadata": {
        "id": "GQNmwtpzCxQI"
      }
    },
    {
      "cell_type": "code",
      "source": [
        "p1 = 0.25*0.8\n",
        "p2 = 0.25*0.7\n",
        "p3 = 0.5*0.9\n",
        "p = p1 + p2 + p3\n",
        "print(f\"Вероятность для факультета А: {(p1/p):.2f}\")\n",
        "print(f\"Вероятность для факультета B: {(p2/p):.2f}\")\n",
        "print(f\"Вероятность для факультета C: {(p3/p):.2f}\")"
      ],
      "metadata": {
        "colab": {
          "base_uri": "https://localhost:8080/"
        },
        "id": "Xa6Xu0eWC0Ty",
        "outputId": "29db1d9d-8b89-469f-8136-af545de74b35"
      },
      "execution_count": 8,
      "outputs": [
        {
          "output_type": "stream",
          "name": "stdout",
          "text": [
            "Вероятность для факультета А: 0.24\n",
            "Вероятность для факультета B: 0.21\n",
            "Вероятность для факультета C: 0.55\n"
          ]
        }
      ]
    },
    {
      "cell_type": "markdown",
      "source": [
        "5. Устройство состоит из трех деталей. Для первой детали вероятность выйти из строя в первый месяц равна 0.1, для второй - 0.2, для третьей - 0.25. Какова вероятность того, что в первый месяц выйдут из строя: а). все детали б). только две детали в). хотя бы одна деталь г). от одной до двух деталей?"
      ],
      "metadata": {
        "id": "MZGR5qhtC_Sz"
      }
    },
    {
      "cell_type": "code",
      "source": [
        "p1=0.1\n",
        "p2=0.2\n",
        "p3=0.25\n",
        "p_all = p1*p2*p3\n",
        "p_2 = p1*p2*(1-p3) + p2*p3*(1-p1) + p1*p3*(1-p2)\n",
        "p_12 = p_2 + p1*(1-p2)*(1-p3) + p2*(1-p1)*(1-p3) + p3*(1-p1)*(1-p2)\n",
        "p_h1 = 1 - (1-p1)*(1-p2)*(1-p3)\n",
        "print(f\"Вероятность для всех деталей: {(p_all*100):.2f}%\")\n",
        "print(f\"Вероятность для двух деталей: {(p_2*100):.2f}%\")\n",
        "print(f\"Вероятность хотя бы одна деталь: {(p_h1*100):.2f}%\")\n",
        "print(f\"Вероятность от одной до двух: {(p_12*100):.2f}%\")"
      ],
      "metadata": {
        "colab": {
          "base_uri": "https://localhost:8080/"
        },
        "id": "KZ8vPVQcDGvs",
        "outputId": "87cf58b5-7e33-4da1-fb6a-e1be9bae9340"
      },
      "execution_count": 9,
      "outputs": [
        {
          "output_type": "stream",
          "name": "stdout",
          "text": [
            "Вероятность для всех деталей: 0.50%\n",
            "Вероятность для двух деталей: 8.00%\n",
            "Вероятность хотя бы одна деталь: 46.00%\n",
            "Вероятность от одной до двух: 45.50%\n"
          ]
        }
      ]
    }
  ]
}