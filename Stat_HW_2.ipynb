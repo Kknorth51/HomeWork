{
  "nbformat": 4,
  "nbformat_minor": 0,
  "metadata": {
    "colab": {
      "provenance": [],
      "authorship_tag": "ABX9TyP/5q5+ERKgtAGU6HZ4GX6D",
      "include_colab_link": true
    },
    "kernelspec": {
      "name": "python3",
      "display_name": "Python 3"
    },
    "language_info": {
      "name": "python"
    }
  },
  "cells": [
    {
      "cell_type": "markdown",
      "metadata": {
        "id": "view-in-github",
        "colab_type": "text"
      },
      "source": [
        "<a href=\"https://colab.research.google.com/github/Kknorth51/HomeWork/blob/main/Stat_HW_2.ipynb\" target=\"_parent\"><img src=\"https://colab.research.google.com/assets/colab-badge.svg\" alt=\"Open In Colab\"/></a>"
      ]
    },
    {
      "cell_type": "markdown",
      "source": [],
      "metadata": {
        "id": "MJ_5uhHZJnY9"
      }
    },
    {
      "cell_type": "markdown",
      "source": [
        "## **Дискретные распределения вероятностей**"
      ],
      "metadata": {
        "id": "vJK_bQDuJsw4"
      }
    },
    {
      "cell_type": "code",
      "source": [
        "import math\n",
        "\n",
        "def func_bernulli(k, n, p):\n",
        "    return round(math.comb(n,k)*p**k*(1-p)**(n-k)*100, 2)\n",
        "\n",
        "def func_poisson(k, n, p):\n",
        "    lambda_value = n*p\n",
        "    return round((lambda_value**k/math.factorial(k)*math.e**(-lambda_value))*100, 2)"
      ],
      "metadata": {
        "id": "q7Gt2q-qKJoI"
      },
      "execution_count": 1,
      "outputs": []
    },
    {
      "cell_type": "markdown",
      "source": [
        "1. Вероятность того, что стрелок попадет в мишень, выстрелив один раз, равна 0.8. Стрелок выстрелил 100 раз. Найдите вероятность того, что стрелок попадет в цель ровно 85 раз."
      ],
      "metadata": {
        "id": "lZ-eJX4wKSAH"
      }
    },
    {
      "cell_type": "code",
      "source": [
        "print(f\"Вероятность: {func_bernulli(85, 100, 0.8)}%\")"
      ],
      "metadata": {
        "colab": {
          "base_uri": "https://localhost:8080/"
        },
        "id": "9UvJTkzLKczP",
        "outputId": "44b6ad20-9a63-46d0-dfd5-f0a38d3aa056"
      },
      "execution_count": 2,
      "outputs": [
        {
          "output_type": "stream",
          "name": "stdout",
          "text": [
            "Вероятность: 4.81%\n"
          ]
        }
      ]
    },
    {
      "cell_type": "markdown",
      "source": [
        "2. Вероятность того, что лампочка перегорит в течение первого дня эксплуатации, равна 0.0004. В жилом комплексе после ремонта в один день включили 5000 новых лампочек. Какова вероятность, что ни одна из них не перегорит в первый день? Какова вероятность, что перегорят ровно две?"
      ],
      "metadata": {
        "id": "Qy1AJoAXKjxJ"
      }
    },
    {
      "cell_type": "code",
      "source": [
        "print(f\"Вероятность, что ни одна не перегорит в первый день: {func_poisson(0, 5000, 0.0004)}%\")\n",
        "print(f\"Вероятность, что перегорят ровно две: {func_poisson(2, 5000, 0.0004)}%\")"
      ],
      "metadata": {
        "colab": {
          "base_uri": "https://localhost:8080/"
        },
        "id": "Fx54bxRHKoOC",
        "outputId": "47938ac1-b56c-4b6a-a78e-af7a642e970d"
      },
      "execution_count": 6,
      "outputs": [
        {
          "output_type": "stream",
          "name": "stdout",
          "text": [
            "Вероятность, что ни одна не перегорит в первый день: 13.53%\n",
            "Вероятность, что перегорят ровно две: 27.07%\n"
          ]
        }
      ]
    },
    {
      "cell_type": "markdown",
      "source": [
        "3. Монету подбросили 144 раза. Какова вероятность, что орел выпадет ровно 70 раз?"
      ],
      "metadata": {
        "id": "2ZU6FezAKyIi"
      }
    },
    {
      "cell_type": "code",
      "source": [
        "print(f\"Вероятность: {func_bernulli(70, 144, 0.5)}%\")"
      ],
      "metadata": {
        "colab": {
          "base_uri": "https://localhost:8080/"
        },
        "id": "GK70qEQMK0mf",
        "outputId": "5a5e6346-42bf-4076-9fb7-016271dd8434"
      },
      "execution_count": 4,
      "outputs": [
        {
          "output_type": "stream",
          "name": "stdout",
          "text": [
            "Вероятность: 6.28%\n"
          ]
        }
      ]
    },
    {
      "cell_type": "markdown",
      "source": [
        "4. В первом ящике находится 10 мячей, из которых 7 - белые. Во втором ящике - 11 мячей, из которых 9 белых. Из каждого ящика вытаскивают случайным образом по два мяча.\n",
        "\n",
        "* а) Какова вероятность того, что все мячи белые?\n",
        "* б) Какова вероятность того, что ровно два мяча белые?\n",
        "* в) Какова вероятность того, что хотя бы один мяч белый?"
      ],
      "metadata": {
        "id": "SefGrvyRLKTT"
      }
    },
    {
      "cell_type": "code",
      "source": [
        "print(f\"а) Вероятность того, что все мячи белые: {round((7/10*6/9*9/11*8/10)*100, 2)}%\")\n",
        "w1 = 7/10*6/9*2/11*1/10 # ББ + ЧЧ\n",
        "w2 = 3/10*2/9*9/11*8/10 # ЧЧ + ББ\n",
        "w3 = 7/10*3/9*9/11*2/10 # БЧ + БЧ\n",
        "w4 = 3/10*7/9*9/11*2/10 # ЧБ + БЧ\n",
        "w5 = 3/10*7/9*2/11*9/10 # ЧБ + ЧБ\n",
        "w6 = 7/10*3/9*2/11*9/10 # БЧ + ЧБ\n",
        "print(f\"б) Вероятность того, что ровно два мяча белые: {round((w1+w2+w3+w4+w5+w6)*100, 2)}%\")\n",
        "w1 = math.comb(3,2)/math.comb(10,2)\n",
        "w2 = math.comb(2,2)/math.comb(11,2)\n",
        "w = 1 - w1*w2\n",
        "print(f\"в) Вероятность того, что хотя бы один мяч белый: {round(w*100, 2)}%\")"
      ],
      "metadata": {
        "colab": {
          "base_uri": "https://localhost:8080/"
        },
        "id": "TlgVIgViLca2",
        "outputId": "c6b34006-a276-42c1-f363-6b7bedce6623"
      },
      "execution_count": 11,
      "outputs": [
        {
          "output_type": "stream",
          "name": "stdout",
          "text": [
            "а) Вероятность того, что все мячи белые: 30.55%\n",
            "б) Вероятность того, что ровно два мяча белые: 20.48%\n",
            "в) Вероятность того, что хотя бы один мяч белый: 99.88%\n"
          ]
        }
      ]
    }
  ]
}