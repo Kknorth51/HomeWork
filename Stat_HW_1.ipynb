{
  "nbformat": 4,
  "nbformat_minor": 0,
  "metadata": {
    "colab": {
      "provenance": [],
      "authorship_tag": "ABX9TyONFFO6AIrgEO2QpUfsmQnI",
      "include_colab_link": true
    },
    "kernelspec": {
      "name": "python3",
      "display_name": "Python 3"
    },
    "language_info": {
      "name": "python"
    }
  },
  "cells": [
    {
      "cell_type": "markdown",
      "metadata": {
        "id": "view-in-github",
        "colab_type": "text"
      },
      "source": [
        "<a href=\"https://colab.research.google.com/github/Kknorth51/HomeWork/blob/main/Stat_HW_1.ipynb\" target=\"_parent\"><img src=\"https://colab.research.google.com/assets/colab-badge.svg\" alt=\"Open In Colab\"/></a>"
      ]
    },
    {
      "cell_type": "code",
      "execution_count": null,
      "metadata": {
        "id": "0-MIWuKXjCF6"
      },
      "outputs": [],
      "source": []
    },
    {
      "cell_type": "markdown",
      "source": [
        "## **Теория вероятностей и математическая статистика**"
      ],
      "metadata": {
        "id": "mDrzimBmjxo-"
      }
    },
    {
      "cell_type": "markdown",
      "source": [
        "**Расчет вероятности случайных событий.**\n",
        "\n",
        "*Домашнее задание:*\n",
        "\n",
        "1. Из колоды в 52 карты извлекаются случайным образом 4 карты. a) Найти вероятность того, что все карты – крести. б) Найти вероятность, что среди 4-х карт окажется хотя бы один туз.\n",
        "\n",
        "a) Найти вероятность того, что все карты – крести."
      ],
      "metadata": {
        "id": "oH8cWi6HkWm8"
      }
    },
    {
      "cell_type": "code",
      "source": [
        "import numpy as np\n",
        "\n",
        "def combination(n, k):\n",
        "    return np.math.factorial(n)//(np.math.factorial(k)*np.math.factorial(n-k))\n",
        "\n",
        "print(f'Количество благоприятных исходов: {combination(13,4)}')\n",
        "print(f'Количество возможных исходов: {combination(52,4)}')\n",
        "print(f'Вероятность, что все карты крести: {round((combination(13,4)/combination(52,4)*100),2)} %')"
      ],
      "metadata": {
        "colab": {
          "base_uri": "https://localhost:8080/"
        },
        "id": "0p3E3koTlDyd",
        "outputId": "77a64471-a2e1-4ed0-b7c4-5f40f9f0ddb5"
      },
      "execution_count": 2,
      "outputs": [
        {
          "output_type": "stream",
          "name": "stdout",
          "text": [
            "Количество благоприятных исходов: 715\n",
            "Количество возможных исходов: 270725\n",
            "Вероятность, что все карты крести: 0.26 %\n"
          ]
        }
      ]
    },
    {
      "cell_type": "markdown",
      "source": [
        "б) Найти вероятность, что среди 4-х карт окажется хотя бы один туз."
      ],
      "metadata": {
        "id": "j1J320HBlkbm"
      }
    },
    {
      "cell_type": "code",
      "source": [
        "print(f'Количество возможных исходов без тузов: {combination(48,4)}')\n",
        "print(f'Вероятность, что есть хотя бы 1 туз: {round(((combination(52,4)-combination(48,4))/combination(52,4)*100),2)} %')"
      ],
      "metadata": {
        "colab": {
          "base_uri": "https://localhost:8080/"
        },
        "id": "3ZoO7oPmll9E",
        "outputId": "c3e81c68-a0b2-4b14-f069-dc99e5f3263e"
      },
      "execution_count": 3,
      "outputs": [
        {
          "output_type": "stream",
          "name": "stdout",
          "text": [
            "Количество возможных исходов без тузов: 194580\n",
            "Вероятность, что есть хотя бы 1 туз: 28.13 %\n"
          ]
        }
      ]
    },
    {
      "cell_type": "markdown",
      "source": [
        "2. На входной двери подъезда установлен кодовый замок, содержащий десять кнопок с цифрами от 0 до 9. Код содержит три цифры, которые нужно нажать одновременно. Какова вероятность того, что человек, не знающий код, откроет дверь с первой попытки?"
      ],
      "metadata": {
        "id": "ynMZRflSlymL"
      }
    },
    {
      "cell_type": "code",
      "source": [
        "print(f'Количество возможных исходов: {combination(10,3)}')\n",
        "print(f'Вероятность: {round((1/combination(10,3)),4)*100} %')"
      ],
      "metadata": {
        "colab": {
          "base_uri": "https://localhost:8080/"
        },
        "id": "5y4rf6_bl8Rb",
        "outputId": "c1e7636f-1e44-44bd-8579-44d51a8bb40a"
      },
      "execution_count": 4,
      "outputs": [
        {
          "output_type": "stream",
          "name": "stdout",
          "text": [
            "Количество возможных исходов: 120\n",
            "Вероятность: 0.83 %\n"
          ]
        }
      ]
    },
    {
      "cell_type": "markdown",
      "source": [
        "3. В ящике имеется 15 деталей, из которых 9 окрашены. Рабочий случайным образом извлекает 3 детали. Какова вероятность того, что все извлеченные детали окрашены?"
      ],
      "metadata": {
        "id": "Yplim3FnmSYp"
      }
    },
    {
      "cell_type": "code",
      "source": [
        "print(f'Количество возможных исходов: {combination(15,3)}')\n",
        "print(f'Количество благоприятных исходов: {combination(9,3)}')\n",
        "print(f'Вероятность: {round(((combination(9,3)/combination(15,3))*100), 2)} %')"
      ],
      "metadata": {
        "colab": {
          "base_uri": "https://localhost:8080/"
        },
        "id": "9F9bMEc5mVp0",
        "outputId": "8ac83c7a-ad1a-4178-b01c-2e0cfe00afa9"
      },
      "execution_count": 5,
      "outputs": [
        {
          "output_type": "stream",
          "name": "stdout",
          "text": [
            "Количество возможных исходов: 455\n",
            "Количество благоприятных исходов: 84\n",
            "Вероятность: 18.46 %\n"
          ]
        }
      ]
    },
    {
      "cell_type": "markdown",
      "source": [
        "4. В лотерее 100 билетов. Из них 2 выигрышных. Какова вероятность того, что 2 приобретенных билета окажутся выигрышными?"
      ],
      "metadata": {
        "id": "PPikWzUKmpCI"
      }
    },
    {
      "cell_type": "code",
      "source": [
        "print(f'Количество возможных исходов: {combination(100,2)}')\n",
        "print('Количество благоприятных исходов: 1')\n",
        "print(f'Вероятность: {round(((1/combination(100,2))*100),2)} %')"
      ],
      "metadata": {
        "colab": {
          "base_uri": "https://localhost:8080/"
        },
        "id": "aBVu04SWmqTs",
        "outputId": "4f49bbdc-d2c5-4161-9f7c-cb6207a7cd65"
      },
      "execution_count": 6,
      "outputs": [
        {
          "output_type": "stream",
          "name": "stdout",
          "text": [
            "Количество возможных исходов: 4950\n",
            "Количество благоприятных исходов: 1\n",
            "Вероятность: 0.02 %\n"
          ]
        }
      ]
    },
    {
      "cell_type": "markdown",
      "source": [],
      "metadata": {
        "id": "B7gXn5bBkIrR"
      }
    }
  ]
}