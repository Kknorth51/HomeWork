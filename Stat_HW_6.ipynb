{
  "nbformat": 4,
  "nbformat_minor": 0,
  "metadata": {
    "colab": {
      "provenance": [],
      "authorship_tag": "ABX9TyNpOq8bxHmhUglO1rmYO+De",
      "include_colab_link": true
    },
    "kernelspec": {
      "name": "python3",
      "display_name": "Python 3"
    },
    "language_info": {
      "name": "python"
    }
  },
  "cells": [
    {
      "cell_type": "markdown",
      "metadata": {
        "id": "view-in-github",
        "colab_type": "text"
      },
      "source": [
        "<a href=\"https://colab.research.google.com/github/Kknorth51/HomeWork/blob/main/Stat_HW_6.ipynb\" target=\"_parent\"><img src=\"https://colab.research.google.com/assets/colab-badge.svg\" alt=\"Open In Colab\"/></a>"
      ]
    },
    {
      "cell_type": "markdown",
      "source": [
        "## **Сравнение долей. Построение доверительного интервала**\n"
      ],
      "metadata": {
        "id": "uw9zsf53Ygea"
      }
    },
    {
      "cell_type": "code",
      "source": [
        "import scipy.stats as stats\n",
        "import numpy as np"
      ],
      "metadata": {
        "id": "yCeKISIYY1YK"
      },
      "execution_count": 1,
      "outputs": []
    },
    {
      "cell_type": "markdown",
      "source": [
        "1) Известно, что генеральная совокупность распределена нормально со средним квадратическим отклонением, равным 16.\n",
        "Найти доверительный интервал для оценки математического ожидания a с надежностью 0.95, если выборочная средняя M = 80, а объем выборки n = 256."
      ],
      "metadata": {
        "id": "Pp4r68WtYu5v"
      }
    },
    {
      "cell_type": "code",
      "source": [
        "M = 80\n",
        "n = 256\n",
        "sigma = 16\n",
        "a = 0.95\n",
        "\n",
        "z_table = stats.norm.ppf(a + (1-a)/2)\n",
        "se = sigma / np.sqrt(n)\n",
        "\n",
        "print(f'Доверительный интервал: [{round(M - z_table*se, 3)}, {round(M + z_table*se, 3)}]. ' \\\n",
        "      f'С веоятностью 95% математическое ожидание попадает в данный интервал.')"
      ],
      "metadata": {
        "colab": {
          "base_uri": "https://localhost:8080/"
        },
        "id": "FFhjrFfDYxgc",
        "outputId": "4212d477-b42c-41bc-8b00-c724b48bb1c3"
      },
      "execution_count": 2,
      "outputs": [
        {
          "output_type": "stream",
          "name": "stdout",
          "text": [
            "Доверительный интервал: [78.04, 81.96]. С веоятностью 95% математическое ожидание попадает в данный интервал.\n"
          ]
        }
      ]
    },
    {
      "cell_type": "markdown",
      "source": [
        "2) В результате 10 независимых измерений некоторой величины X, выполненных с одинаковой точностью, получены опытные данные:\n",
        "\n",
        "6.9, 6.1, 6.2, 6.8, 7.5, 6.3, 6.4, 6.9, 6.7, 6.1\n",
        "\n",
        "Предполагая, что результаты измерений подчинены нормальному закону распределения вероятностей, оценить истинное значение величины X при помощи доверительного интервала, покрывающего это значение с доверительной вероятностью 0,95."
      ],
      "metadata": {
        "id": "41X-qu0uZEok"
      }
    },
    {
      "cell_type": "code",
      "source": [
        "x = np.array([6.9, 6.1, 6.2, 6.8, 7.5, 6.3, 6.4, 6.9, 6.7, 6.1])\n",
        "a = 0.95\n",
        "\n",
        "n = len(x)\n",
        "M = np.mean(x)\n",
        "d = np.var(x, ddof=1)\n",
        "\n",
        "t_table = stats.t.ppf(a + (1-a)/2, n -1) # a + (1-a)/2 = 0,975\n",
        "\n",
        "se = np.sqrt(d / n)\n",
        "\n",
        "print(f'Доверительный интервал: [{M - t_table*se:.2f}, {M + t_table*se:.2f}].')"
      ],
      "metadata": {
        "colab": {
          "base_uri": "https://localhost:8080/"
        },
        "id": "2dV8ughuZGO2",
        "outputId": "1a0b588d-3457-4147-b47d-bbc13c0226bd"
      },
      "execution_count": 3,
      "outputs": [
        {
          "output_type": "stream",
          "name": "stdout",
          "text": [
            "Доверительный интервал: [6.27, 6.91].\n"
          ]
        }
      ]
    },
    {
      "cell_type": "markdown",
      "source": [
        "3)Рост дочерей 175, 167, 154, 174, 178, 148, 160, 167, 169, 170\n",
        "Рост матерей  178, 165, 165, 173, 168, 155, 160, 164, 178, 175\n",
        "\n",
        "Используя эти данные построить 95% доверительный интервал для разности среднего роста родителей и детей."
      ],
      "metadata": {
        "id": "yzryvL1CZKPF"
      }
    },
    {
      "cell_type": "code",
      "source": [
        "daughter_height = np.array([175, 167, 154, 174, 178, 148, 160, 167, 169, 170])\n",
        "mother_height = np.array([178, 165, 165, 173, 168, 155, 160, 164, 178, 175])\n",
        "a = 0.95\n",
        "n_1 = len(daughter_height)\n",
        "n_2 = len(mother_height)\n",
        "\n",
        "delta = np.mean(daughter_height) - np.mean(mother_height)\n",
        "D_1 = np.var(daughter_height, ddof= 1)\n",
        "D_2 = np.var(mother_height, ddof= 1)\n",
        "\n",
        "D = (D_1 + D_2) / 2\n",
        "\n",
        "S_delta = np.sqrt(D / n_1 + D / n_2)\n",
        "\n",
        "df = n_1 + n_2 - 2\n",
        "\n",
        "t_table = stats.t.ppf(a + (1-a)/2, df)\n",
        "\n",
        "print(f'Доверительный интервал: [{delta - t_table*S_delta:.2f}, {delta + t_table*S_delta:.2f}].')"
      ],
      "metadata": {
        "colab": {
          "base_uri": "https://localhost:8080/"
        },
        "id": "SWYc7ktYZOfx",
        "outputId": "086aebae-ff91-4b3a-f1a1-51801750fff2"
      },
      "execution_count": 4,
      "outputs": [
        {
          "output_type": "stream",
          "name": "stdout",
          "text": [
            "Доверительный интервал: [-10.07, 6.27].\n"
          ]
        }
      ]
    },
    {
      "cell_type": "markdown",
      "source": [
        "**Доверительный интервал проходит через 0. Cтатистически значимых различий нет.**"
      ],
      "metadata": {
        "id": "nndhiQpqZV59"
      }
    }
  ]
}