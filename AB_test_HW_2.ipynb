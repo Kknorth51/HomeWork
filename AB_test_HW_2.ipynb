{
  "nbformat": 4,
  "nbformat_minor": 0,
  "metadata": {
    "colab": {
      "provenance": [],
      "authorship_tag": "ABX9TyNcCKOPDpABK8e5K56cz9KS",
      "include_colab_link": true
    },
    "kernelspec": {
      "name": "python3",
      "display_name": "Python 3"
    },
    "language_info": {
      "name": "python"
    }
  },
  "cells": [
    {
      "cell_type": "markdown",
      "metadata": {
        "id": "view-in-github",
        "colab_type": "text"
      },
      "source": [
        "<a href=\"https://colab.research.google.com/github/Kknorth51/HomeWork/blob/main/AB_test_HW_2.ipynb\" target=\"_parent\"><img src=\"https://colab.research.google.com/assets/colab-badge.svg\" alt=\"Open In Colab\"/></a>"
      ]
    },
    {
      "cell_type": "markdown",
      "source": [
        "## **Урок 2. А/Б тестирование**\n",
        "**Задание 1.** Сделайте приоритезацию гипотез из предыдущего урока с помощью ICE.\n",
        "\n",
        "**Задание 2.**\n",
        "Составьте шаблон дизайна эксперимента для гипотезы, которая набрала больше всего баллов в практическом задании предыдущего урока."
      ],
      "metadata": {
        "id": "hy2WnH9l7Otw"
      }
    },
    {
      "cell_type": "markdown",
      "source": [
        "**ICE Score**\n",
        "\n",
        "*Impact (влияние)* — демонстрирует, насколько идея положительно повлияет на ключевой показатель, который вы пытаетесь улучшить.\n",
        "\n",
        "*Confidence (уверенность)* — демонстрирует, насколько вы уверены в оценках влияния и лёгкости реализации.\n",
        "\n",
        "*Ease (лёгкость реализации)* — оценка того, сколько усилий и ресурсов требуется для реализации этой идеи."
      ],
      "metadata": {
        "id": "Wzjp3O5t7v3D"
      }
    },
    {
      "cell_type": "markdown",
      "source": [
        "**Гипотезы:**\n",
        "1. Если увеличить скорость загрузки страницы сайта посредством оптимизации ПО, то это приведёт к снижению показателей отказов и увеличению конверсии, потому что долгая загрузка страниц сайта нервирует и раздражает пользователя.\n",
        "2. Если улучшить карточки товаров посредством дополнения информации о продукте, то это приведёт к снижению блуждания пользователя по сайту, потому что недостаток информации может привести к потере клиента.\n",
        "3. Если предложить пользователю при первой покупке товара на сайте скидку\n",
        " в размере 15% посредством купона (промокода), то это приведёт к увеличению заинтересованности приобрести продукт, потому что большей части клиентов нравится сэкономить.\n",
        "4. Если сделать посадочную страницу более информативной посредством размещения на ней информации с обратной связью, увеличи кнопку \"Корзина\", разместив видео о \"Новинках\", то это повысит интерес пользователя к контенту и предложению, потому что отсутствие важной информации и плохой контент увеличивает показатель отказов.\n",
        "5. Если запустить ретаргетинг пользователей посредством Яндекс. Директ и Google Реклама, то это увеличит процент возратов пользователей на сайт, потому что, напоминая о незавершённых покупках, компания заботится о желаниях и целях клиента."
      ],
      "metadata": {
        "id": "R0Eemv_68Rl3"
      }
    },
    {
      "cell_type": "markdown",
      "source": [
        "[Текст ссылки](https://)![image.png](data:image/png;base64,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)"
      ],
      "metadata": {
        "id": "2O7gcfowHE3_"
      }
    },
    {
      "cell_type": "markdown",
      "source": [
        "## Шаблон дизайна эксперимента\n",
        "**Гипотеза:**\n",
        "\n",
        "Если предложить пользователю при первой покупке товара на сайте скидку в размере 15% посредством купона (промокода), то это приведёт к увеличению заинтересованности приобрести продукт, потому что большей части клиентов нравится сэкономить.\n",
        "\n",
        "Контрольная версия: предсказательная модель.\n",
        "\n",
        "Тестовая версия: пользователю при первой покупке товара на сайте скидку в размере 15% посредством купона (промокода).\n",
        "\n",
        "На каких пользователях тестируем: для всех пользователей.\n",
        "\n",
        "Ключевые метрики для оценки эксперимента:\n",
        "*EVC*  - количество пришедших клиенов\n",
        "\n",
        "*ARPU* - средний доходc привлечённого пользователя\n",
        "\n",
        "*ARPPU* - средний доход от одного платящего\n",
        "\n",
        "*CAC* - стоимость привлечения клиента\n",
        "\n",
        "*CTR* - количество просмотров в целевые действия\n",
        "\n",
        "*Retention* - показатель удержания пользователей\n",
        "\n",
        "*Paying Share *- доля платящих из всех посетителей магазина\n",
        "\n",
        "Ожидаемый эффект: Моментальный. Заинтересованность в скидке на искомый товар всегда приятна. Если она будет сочетаться ещё и сезонной скидкой, то это - двойной эффект.\n",
        "\n",
        "Если есть статитстические значимые различия, а именно внедрение системы скидок и промокодов, то их необходимо внедрять."
      ],
      "metadata": {
        "id": "oPLtLxH7HLPA"
      }
    }
  ]
}