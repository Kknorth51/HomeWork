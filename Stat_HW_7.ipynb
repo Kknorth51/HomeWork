{
  "nbformat": 4,
  "nbformat_minor": 0,
  "metadata": {
    "colab": {
      "provenance": [],
      "authorship_tag": "ABX9TyOjnIf2l0odAhVAWbnwShPj",
      "include_colab_link": true
    },
    "kernelspec": {
      "name": "python3",
      "display_name": "Python 3"
    },
    "language_info": {
      "name": "python"
    }
  },
  "cells": [
    {
      "cell_type": "markdown",
      "metadata": {
        "id": "view-in-github",
        "colab_type": "text"
      },
      "source": [
        "<a href=\"https://colab.research.google.com/github/Kknorth51/HomeWork/blob/main/Stat_HW_7.ipynb\" target=\"_parent\"><img src=\"https://colab.research.google.com/assets/colab-badge.svg\" alt=\"Open In Colab\"/></a>"
      ]
    },
    {
      "cell_type": "markdown",
      "source": [
        "## **Непараметрические тесты**"
      ],
      "metadata": {
        "id": "jryglAJz1gjT"
      }
    },
    {
      "cell_type": "code",
      "source": [
        "import numpy as np\n",
        "import scipy.stats as stats"
      ],
      "metadata": {
        "id": "wGHUTzm4155D"
      },
      "execution_count": 1,
      "outputs": []
    },
    {
      "cell_type": "markdown",
      "source": [
        "1-4 задачи решать с помощью функций, 5ю вручную\n",
        "Выбрать тест и проверить, есть  ли различия между выборками:\n",
        "\n",
        "1 )  Даны две  независимые выборки. Не соблюдается условие нормальности\n",
        "x1  380,420, 290\n",
        "y1 140,360,200,900\n",
        "\n",
        "Сделайте вывод по результатам, полученным с помощью функции"
      ],
      "metadata": {
        "id": "3y7_Bq451p_f"
      }
    },
    {
      "cell_type": "code",
      "source": [
        "x1 = np.array([380,420, 290])\n",
        "y1 = np.array([140,360,200,900])\n",
        "stats.mannwhitneyu(x1, y1)"
      ],
      "metadata": {
        "colab": {
          "base_uri": "https://localhost:8080/"
        },
        "id": "spjaPgCt111P",
        "outputId": "65460d0a-adf2-4a45-92b8-17d3d9a37170"
      },
      "execution_count": 2,
      "outputs": [
        {
          "output_type": "execute_result",
          "data": {
            "text/plain": [
              "MannwhitneyuResult(statistic=8.0, pvalue=0.6285714285714286)"
            ]
          },
          "metadata": {},
          "execution_count": 2
        }
      ]
    },
    {
      "cell_type": "markdown",
      "source": [
        "В результате теста получили pvalue=0.629 > 0.05. Следовательно, у нас недостаточно оснований для отклонения нулевой гипотезы. Статистически значимых различий между выборками нет."
      ],
      "metadata": {
        "id": "_OZUHBUX2DuC"
      }
    },
    {
      "cell_type": "markdown",
      "source": [
        "2 ) Исследовалось влияние препарата на уровень давления пациентов. Сначала измерялось давление до приема препарата, потом через 10 минут и через 30 минут. Есть ли статистически значимые различия?\n",
        "\n",
        "1е измерение до приема препарата: 150, 160, 165, 145, 155\n",
        "2е измерение через 10 минут: 140, 155, 150,  130, 135\n",
        "3е измерение через 30 минут: 130, 130, 120, 130, 125"
      ],
      "metadata": {
        "id": "mv775_hV2msu"
      }
    },
    {
      "cell_type": "code",
      "source": [
        "before = np.array([150, 160, 165, 145, 155])\n",
        "after_10 = np.array([140, 155, 150, 130, 135])\n",
        "after_30 = np.array([130, 130, 120, 130, 125])\n",
        "stats.friedmanchisquare(before, after_10, after_30)"
      ],
      "metadata": {
        "colab": {
          "base_uri": "https://localhost:8080/"
        },
        "id": "uFhAwb9q2oNH",
        "outputId": "b20bb2de-4270-433c-b2ff-8ae38e918f44"
      },
      "execution_count": 3,
      "outputs": [
        {
          "output_type": "execute_result",
          "data": {
            "text/plain": [
              "FriedmanchisquareResult(statistic=9.578947368421062, pvalue=0.00831683351100441)"
            ]
          },
          "metadata": {},
          "execution_count": 3
        }
      ]
    },
    {
      "cell_type": "markdown",
      "source": [
        "pvalue=0.008 < 0.05 или pvalue=0.008 < 0.01. Следовательно, статистически значимые различия есть."
      ],
      "metadata": {
        "id": "GMenZ3xY2uiP"
      }
    },
    {
      "cell_type": "markdown",
      "source": [
        "3 ) Сравните 1 и 2 е измерения, предполагая, что 3го измерения через 30 минут не было."
      ],
      "metadata": {
        "id": "-RIdNZXe3CuK"
      }
    },
    {
      "cell_type": "code",
      "source": [
        "stats.wilcoxon(before, after_10)"
      ],
      "metadata": {
        "colab": {
          "base_uri": "https://localhost:8080/"
        },
        "id": "6kvgaNID3GFX",
        "outputId": "86602b8d-5c05-4ebe-94b6-1c611348eb48"
      },
      "execution_count": 4,
      "outputs": [
        {
          "output_type": "execute_result",
          "data": {
            "text/plain": [
              "WilcoxonResult(statistic=0.0, pvalue=0.0625)"
            ]
          },
          "metadata": {},
          "execution_count": 4
        }
      ]
    },
    {
      "cell_type": "markdown",
      "source": [
        "pvalue=0.0625 > 0.05 | 0.01. Следовательно, статистически значимых различий нет."
      ],
      "metadata": {
        "id": "hlf-1gxk3J0X"
      }
    },
    {
      "cell_type": "markdown",
      "source": [
        "4) Даны 3 группы  учеников плавания.\n",
        "В 1 группе время на дистанцию 50 м составляют:\n",
        "56, 60, 62, 55, 71, 67, 59, 58, 64, 67\n",
        "\n",
        "Вторая группа : 57, 58, 69, 48, 72, 70, 68, 71, 50, 53\n",
        "Третья группа: 57, 67, 49, 48, 47, 55, 66, 51, 54"
      ],
      "metadata": {
        "id": "VSoEtB2X3Tkg"
      }
    },
    {
      "cell_type": "code",
      "source": [
        "gr_1 = np.array([56, 60, 62, 55, 71, 67, 59, 58, 64, 67])\n",
        "gr_2 = np.array([57, 58, 69, 48, 72, 70, 68, 71, 50, 53])\n",
        "gr_3 = np.array([57, 67, 49, 48, 47, 55, 66, 51, 54])\n",
        "stats.kruskal(gr_1, gr_2, gr_3)"
      ],
      "metadata": {
        "colab": {
          "base_uri": "https://localhost:8080/"
        },
        "id": "HiMCw7O13Uo3",
        "outputId": "7c2e7f6e-98bf-4816-8401-f094040864b5"
      },
      "execution_count": 5,
      "outputs": [
        {
          "output_type": "execute_result",
          "data": {
            "text/plain": [
              "KruskalResult(statistic=5.465564058257224, pvalue=0.0650380998590494)"
            ]
          },
          "metadata": {},
          "execution_count": 5
        }
      ]
    },
    {
      "cell_type": "markdown",
      "source": [
        "pvalue=0.065 > 0.05 | 0.01. Следовательно, статистически значимых различий между группами нет."
      ],
      "metadata": {
        "id": "d-qmRG0E3cGQ"
      }
    },
    {
      "cell_type": "markdown",
      "source": [
        "5) Заявляется, что партия изготавливается со средним арифметическим 2,5 см. Проверить данную гипотезу, если известно, что размеры изделий подчинены нормальному закону распределения. Объем выборки 10, уровень статистической значимости 5%\n",
        "\n",
        "2.51, 2.35, 2.74, 2.56, 2.40, 2.36, 2.65, 2.7, 2.67, 2.34"
      ],
      "metadata": {
        "id": "BB0f3AnB3jcQ"
      }
    },
    {
      "cell_type": "code",
      "source": [
        "sample = np.array([2.51, 2.35, 2.74, 2.56, 2.40, 2.36, 2.65, 2.7, 2.67, 2.34])\n",
        "a = 0.05\n",
        "M_0 = 2.5\n",
        "M_1 = np.mean(sample)\n",
        "std = np.std(sample, ddof=1)\n",
        "n = 10\n",
        "t = (M_1 - M_0) / (std / n ** 0.5)\n",
        "t_table = stats.t.ppf(1 - a/2, n-1)\n",
        "\n",
        "if abs(t) > t_table:\n",
        "    print('Гипотеза отвергнута')\n",
        "else:\n",
        "    print('Гипотеза принята')\n",
        "print(f'{t=}, {t_table=}')"
      ],
      "metadata": {
        "colab": {
          "base_uri": "https://localhost:8080/"
        },
        "id": "y_iyP7ud3keA",
        "outputId": "6cf3bc93-79a1-41eb-e83c-320b9a48f967"
      },
      "execution_count": 6,
      "outputs": [
        {
          "output_type": "stream",
          "name": "stdout",
          "text": [
            "Гипотеза принята\n",
            "t=0.5630613661802959, t_table=2.2621571627409915\n"
          ]
        }
      ]
    }
  ]
}