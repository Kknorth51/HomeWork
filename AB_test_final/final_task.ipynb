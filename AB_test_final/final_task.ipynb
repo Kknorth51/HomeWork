{
 "cells": [
  {
   "cell_type": "markdown",
   "id": "389fc9af",
   "metadata": {},
   "source": [
    "# Итоговая аттестация - АБ тестирование, Тервер, Продуктовая аналитика\n",
    "\n",
    "## Кейс №1\n",
    "\n",
    "Ваш продукт - это школа английского языка [Лендинг для языковой школы](https://english22.tilda.ws/). Проанализируйте конкурентов на рынке (SkyEng, Lingvoleo и прочие) и сформулируйте гипотезу по улучшению первого экрана лендинг."
   ]
  },
  {
   "cell_type": "markdown",
   "id": "d4235902",
   "metadata": {},
   "source": [
    "Изучив сайт данной компании и сайты конкурентов, я бы хотел предложить следующие гипотезы для улучшения:\n",
    "\n",
    "- Если добавить меню в header сайта для всех пользователей, то мы уменьшим показатель отказа на 1%, потому что пользователю будет удобнее, привычнее и проще найти необходимую информацию по предлагаемым услугам без дополнительного скролинга.\n",
    "\n",
    "-  Если заменить изображение на более контрастное (изображение неприятно для глаз, слишком голубое, текст тяжело воспринимать), то мы уменьшим показатель отказа на 2%, потому что пользователю будет комфортнее воспринимать информацию.\n",
    "\n",
    "- Если заменить текст \"Оттачивайте английский с лучшими преподавателями и носителями языка – это комфортно и доступно.\" на  \"Научим грамотно и уверенно говорить на любые темы, читать книги и свободно общаться за границей!\", то мы увеличим конверсию в заказ на 3%, так как пользователь сразу понимает, что он приобретет, выбрав нашу школу. \n",
    "\n",
    "-  Если заменить текст \"Учите английский онлайн\" на  \"Свободный английски за 5 месяцев\", то мы увеличим конверсию в заказ на 1%, так как пользователь сразу понимает, что он получит и за какой период.\n",
    "\n",
    "-  Если добавить название школы (графический.текстовый знак), то мы увеличим показатель удержания на 1%, так как пользователю будет легче запомнить нас запомнить и найти в будущем."
   ]
  },
  {
   "cell_type": "markdown",
   "id": "61dbcae7",
   "metadata": {},
   "source": [
    "## Кейс №2 \n",
    "\n",
    "Подведите результаты эксперимента по следующим данным: ab_stats.csv. Стат значимо ли отличается ARPPU в двух группах ? Какие рекомендации дадите менеджеру?"
   ]
  },
  {
   "cell_type": "code",
   "execution_count": 1,
   "id": "d1b264b7",
   "metadata": {},
   "outputs": [],
   "source": [
    "import warnings\n",
    "\n",
    "warnings.filterwarnings('ignore')\n",
    "\n",
    "import pandas as pd\n",
    "import numpy as np\n",
    "import matplotlib.pyplot as plt\n",
    "import seaborn as sns\n",
    "from scipy.stats import mannwhitneyu\n",
    "from scipy.stats import chi2_contingency, mannwhitneyu, ttest_ind\n",
    "from statsmodels.stats.power import TTestIndPower"
   ]
  },
  {
   "cell_type": "code",
   "execution_count": 2,
   "id": "09433d5d",
   "metadata": {},
   "outputs": [
    {
     "data": {
      "text/html": [
       "<div>\n",
       "<style scoped>\n",
       "    .dataframe tbody tr th:only-of-type {\n",
       "        vertical-align: middle;\n",
       "    }\n",
       "\n",
       "    .dataframe tbody tr th {\n",
       "        vertical-align: top;\n",
       "    }\n",
       "\n",
       "    .dataframe thead th {\n",
       "        text-align: right;\n",
       "    }\n",
       "</style>\n",
       "<table border=\"1\" class=\"dataframe\">\n",
       "  <thead>\n",
       "    <tr style=\"text-align: right;\">\n",
       "      <th></th>\n",
       "      <th>revenue</th>\n",
       "      <th>num_purchases</th>\n",
       "      <th>purchase</th>\n",
       "      <th>ab_group</th>\n",
       "      <th>av_site visit</th>\n",
       "    </tr>\n",
       "  </thead>\n",
       "  <tbody>\n",
       "    <tr>\n",
       "      <th>0</th>\n",
       "      <td>0.0</td>\n",
       "      <td>0</td>\n",
       "      <td>0</td>\n",
       "      <td>A</td>\n",
       "      <td>9.040174</td>\n",
       "    </tr>\n",
       "    <tr>\n",
       "      <th>1</th>\n",
       "      <td>0.0</td>\n",
       "      <td>0</td>\n",
       "      <td>0</td>\n",
       "      <td>A</td>\n",
       "      <td>4.811628</td>\n",
       "    </tr>\n",
       "    <tr>\n",
       "      <th>2</th>\n",
       "      <td>0.0</td>\n",
       "      <td>0</td>\n",
       "      <td>0</td>\n",
       "      <td>A</td>\n",
       "      <td>7.342623</td>\n",
       "    </tr>\n",
       "    <tr>\n",
       "      <th>3</th>\n",
       "      <td>0.0</td>\n",
       "      <td>0</td>\n",
       "      <td>0</td>\n",
       "      <td>A</td>\n",
       "      <td>7.744581</td>\n",
       "    </tr>\n",
       "    <tr>\n",
       "      <th>4</th>\n",
       "      <td>0.0</td>\n",
       "      <td>0</td>\n",
       "      <td>0</td>\n",
       "      <td>A</td>\n",
       "      <td>10.511814</td>\n",
       "    </tr>\n",
       "  </tbody>\n",
       "</table>\n",
       "</div>"
      ],
      "text/plain": [
       "   revenue  num_purchases  purchase ab_group  av_site visit\n",
       "0      0.0              0         0        A       9.040174\n",
       "1      0.0              0         0        A       4.811628\n",
       "2      0.0              0         0        A       7.342623\n",
       "3      0.0              0         0        A       7.744581\n",
       "4      0.0              0         0        A      10.511814"
      ]
     },
     "execution_count": 2,
     "metadata": {},
     "output_type": "execute_result"
    }
   ],
   "source": [
    "df = pd.read_csv('ab_stats.csv')\n",
    "df.head()"
   ]
  },
  {
   "cell_type": "markdown",
   "id": "9f45fd3e",
   "metadata": {},
   "source": [
    "Изначально проведем исследовательский данных EDA."
   ]
  },
  {
   "cell_type": "code",
   "execution_count": 3,
   "id": "9d30d137",
   "metadata": {},
   "outputs": [
    {
     "name": "stdout",
     "output_type": "stream",
     "text": [
      "<class 'pandas.core.frame.DataFrame'>\n",
      "RangeIndex: 23652 entries, 0 to 23651\n",
      "Data columns (total 5 columns):\n",
      " #   Column         Non-Null Count  Dtype  \n",
      "---  ------         --------------  -----  \n",
      " 0   revenue        23652 non-null  float64\n",
      " 1   num_purchases  23652 non-null  int64  \n",
      " 2   purchase       23652 non-null  int64  \n",
      " 3   ab_group       23652 non-null  object \n",
      " 4   av_site visit  23652 non-null  float64\n",
      "dtypes: float64(2), int64(2), object(1)\n",
      "memory usage: 924.0+ KB\n"
     ]
    }
   ],
   "source": [
    "df.info()"
   ]
  },
  {
   "cell_type": "markdown",
   "id": "8cf1575f",
   "metadata": {},
   "source": [
    "В данных нет пропущенных значений, типы данных соотвествующие."
   ]
  },
  {
   "cell_type": "code",
   "execution_count": 4,
   "id": "7714d28c",
   "metadata": {},
   "outputs": [
    {
     "data": {
      "text/plain": [
       "3733"
      ]
     },
     "execution_count": 4,
     "metadata": {},
     "output_type": "execute_result"
    }
   ],
   "source": [
    "df.duplicated().sum()"
   ]
  },
  {
   "cell_type": "markdown",
   "id": "ba2128aa",
   "metadata": {},
   "source": [
    "В данных есть дубликаты. Удалим их."
   ]
  },
  {
   "cell_type": "code",
   "execution_count": 5,
   "id": "dad0c97f",
   "metadata": {},
   "outputs": [
    {
     "data": {
      "text/plain": [
       "(19919, 5)"
      ]
     },
     "execution_count": 5,
     "metadata": {},
     "output_type": "execute_result"
    }
   ],
   "source": [
    "df.drop_duplicates(inplace=True)\n",
    "df.shape"
   ]
  },
  {
   "cell_type": "markdown",
   "id": "75fb2e9e",
   "metadata": {},
   "source": [
    "Посмотри как у нас распределились пользователи по группам:"
   ]
  },
  {
   "cell_type": "code",
   "execution_count": 6,
   "id": "6d1cf768",
   "metadata": {},
   "outputs": [
    {
     "data": {
      "text/html": [
       "<div>\n",
       "<style scoped>\n",
       "    .dataframe tbody tr th:only-of-type {\n",
       "        vertical-align: middle;\n",
       "    }\n",
       "\n",
       "    .dataframe tbody tr th {\n",
       "        vertical-align: top;\n",
       "    }\n",
       "\n",
       "    .dataframe thead th {\n",
       "        text-align: right;\n",
       "    }\n",
       "</style>\n",
       "<table border=\"1\" class=\"dataframe\">\n",
       "  <thead>\n",
       "    <tr style=\"text-align: right;\">\n",
       "      <th></th>\n",
       "      <th>ab_group</th>\n",
       "      <th>number_of_users</th>\n",
       "      <th>revenue</th>\n",
       "    </tr>\n",
       "  </thead>\n",
       "  <tbody>\n",
       "    <tr>\n",
       "      <th>0</th>\n",
       "      <td>A</td>\n",
       "      <td>9989</td>\n",
       "      <td>4786.807972</td>\n",
       "    </tr>\n",
       "    <tr>\n",
       "      <th>1</th>\n",
       "      <td>B</td>\n",
       "      <td>9930</td>\n",
       "      <td>2892.735789</td>\n",
       "    </tr>\n",
       "  </tbody>\n",
       "</table>\n",
       "</div>"
      ],
      "text/plain": [
       "  ab_group  number_of_users      revenue\n",
       "0        A             9989  4786.807972\n",
       "1        B             9930  2892.735789"
      ]
     },
     "execution_count": 6,
     "metadata": {},
     "output_type": "execute_result"
    }
   ],
   "source": [
    "df_group = df \\\n",
    "                .groupby('ab_group', as_index=False) \\\n",
    "                .agg({'num_purchases': 'count', 'revenue': 'sum'}) \\\n",
    "                .rename(columns={'num_purchases': 'number_of_users'})\n",
    "\n",
    "df_group"
   ]
  },
  {
   "cell_type": "code",
   "execution_count": 7,
   "id": "14a54b54",
   "metadata": {},
   "outputs": [
    {
     "data": {
      "image/png": "[encoded data removed]",
      "text/plain": [
       "<Figure size 640x480 with 1 Axes>"
      ]
     },
     "metadata": {},
     "output_type": "display_data"
    }
   ],
   "source": [
    "plt.pie(df_group.number_of_users, labels=df_group.ab_group, autopct='%.1f%%', colors=['red', 'blue']);"
   ]
  },
  {
   "cell_type": "markdown",
   "id": "5f961cda",
   "metadata": {},
   "source": [
    "В каждой группе примерно равное количество пользователей. Но доход значительно отличается, возможно в группе A есть выбросы, либо контрольная версия более успешная."
   ]
  },
  {
   "cell_type": "markdown",
   "id": "d836daef",
   "metadata": {},
   "source": [
    "Теперь рассмотрим более детально каждую группу. Так как нас интересует ARPPU (это метрика, которая показывает среднюю прибыль от одного платящего пользователя за определенный период времени), то мы сразу исключим данные, в которых доход равен 0."
   ]
  },
  {
   "cell_type": "code",
   "execution_count": 2,
   "id": "9a419eea",
   "metadata": {},
   "outputs": [
    {
     "ename": "NameError",
     "evalue": "name 'df' is not defined",
     "output_type": "error",
     "traceback": [
      "\u001b[1;31m---------------------------------------------------------------------------\u001b[0m",
      "\u001b[1;31mNameError\u001b[0m                                 Traceback (most recent call last)",
      "Cell \u001b[1;32mIn[2], line 1\u001b[0m\n\u001b[1;32m----> 1\u001b[0m df_A \u001b[38;5;241m=\u001b[39m \u001b[43mdf\u001b[49m[(df\u001b[38;5;241m.\u001b[39mab_group \u001b[38;5;241m==\u001b[39m \u001b[38;5;124m'\u001b[39m\u001b[38;5;124mA\u001b[39m\u001b[38;5;124m'\u001b[39m) \u001b[38;5;241m&\u001b[39m (df\u001b[38;5;241m.\u001b[39mrevenue \u001b[38;5;241m>\u001b[39m \u001b[38;5;241m0\u001b[39m)]\n\u001b[0;32m      2\u001b[0m df_B \u001b[38;5;241m=\u001b[39m df[(df\u001b[38;5;241m.\u001b[39mab_group \u001b[38;5;241m==\u001b[39m \u001b[38;5;124m'\u001b[39m\u001b[38;5;124mB\u001b[39m\u001b[38;5;124m'\u001b[39m) \u001b[38;5;241m&\u001b[39m (df\u001b[38;5;241m.\u001b[39mrevenue \u001b[38;5;241m>\u001b[39m \u001b[38;5;241m0\u001b[39m)]\n\u001b[0;32m      3\u001b[0m df_A\u001b[38;5;241m.\u001b[39mhead()\n",
      "\u001b[1;31mNameError\u001b[0m: name 'df' is not defined"
     ]
    }
   ],
   "source": [
    "df_A = df[(df.ab_group == 'A') & (df.revenue > 0)]\n",
    "df_B = df[(df.ab_group == 'B') & (df.revenue > 0)]\n",
    "df_A.head()"
   ]
  },
  {
   "cell_type": "code",
   "execution_count": 9,
   "id": "aa6e6d9f",
   "metadata": {},
   "outputs": [
    {
     "data": {
      "image/png": "[encoded data removed]",
      "text/plain": [
       "<Figure size 640x480 with 1 Axes>"
      ]
     },
     "metadata": {},
     "output_type": "display_data"
    }
   ],
   "source": [
    "sns.boxplot(data=df.query('revenue > 0'), x='revenue', y='ab_group')\n",
    "plt.show();"
   ]
  },
  {
   "cell_type": "code",
   "execution_count": 10,
   "id": "076b59dd",
   "metadata": {},
   "outputs": [
    {
     "data": {
      "text/html": [
       "<div>\n",
       "<style scoped>\n",
       "    .dataframe tbody tr th:only-of-type {\n",
       "        vertical-align: middle;\n",
       "    }\n",
       "\n",
       "    .dataframe tbody tr th {\n",
       "        vertical-align: top;\n",
       "    }\n",
       "\n",
       "    .dataframe thead th {\n",
       "        text-align: right;\n",
       "    }\n",
       "</style>\n",
       "<table border=\"1\" class=\"dataframe\">\n",
       "  <thead>\n",
       "    <tr style=\"text-align: right;\">\n",
       "      <th></th>\n",
       "      <th>revenue</th>\n",
       "      <th>num_purchases</th>\n",
       "      <th>purchase</th>\n",
       "      <th>av_site visit</th>\n",
       "    </tr>\n",
       "  </thead>\n",
       "  <tbody>\n",
       "    <tr>\n",
       "      <th>count</th>\n",
       "      <td>256.000000</td>\n",
       "      <td>256.000000</td>\n",
       "      <td>256.0</td>\n",
       "      <td>256.000000</td>\n",
       "    </tr>\n",
       "    <tr>\n",
       "      <th>mean</th>\n",
       "      <td>18.698469</td>\n",
       "      <td>2.343750</td>\n",
       "      <td>1.0</td>\n",
       "      <td>6.753074</td>\n",
       "    </tr>\n",
       "    <tr>\n",
       "      <th>std</th>\n",
       "      <td>87.527589</td>\n",
       "      <td>9.723582</td>\n",
       "      <td>0.0</td>\n",
       "      <td>2.043753</td>\n",
       "    </tr>\n",
       "    <tr>\n",
       "      <th>min</th>\n",
       "      <td>0.259689</td>\n",
       "      <td>1.000000</td>\n",
       "      <td>1.0</td>\n",
       "      <td>0.996753</td>\n",
       "    </tr>\n",
       "    <tr>\n",
       "      <th>25%</th>\n",
       "      <td>2.318301</td>\n",
       "      <td>1.000000</td>\n",
       "      <td>1.0</td>\n",
       "      <td>5.281247</td>\n",
       "    </tr>\n",
       "    <tr>\n",
       "      <th>50%</th>\n",
       "      <td>4.283160</td>\n",
       "      <td>1.000000</td>\n",
       "      <td>1.0</td>\n",
       "      <td>6.871241</td>\n",
       "    </tr>\n",
       "    <tr>\n",
       "      <th>75%</th>\n",
       "      <td>11.923141</td>\n",
       "      <td>2.000000</td>\n",
       "      <td>1.0</td>\n",
       "      <td>8.257506</td>\n",
       "    </tr>\n",
       "    <tr>\n",
       "      <th>max</th>\n",
       "      <td>1303.609284</td>\n",
       "      <td>152.000000</td>\n",
       "      <td>1.0</td>\n",
       "      <td>12.504262</td>\n",
       "    </tr>\n",
       "  </tbody>\n",
       "</table>\n",
       "</div>"
      ],
      "text/plain": [
       "           revenue  num_purchases  purchase  av_site visit\n",
       "count   256.000000     256.000000     256.0     256.000000\n",
       "mean     18.698469       2.343750       1.0       6.753074\n",
       "std      87.527589       9.723582       0.0       2.043753\n",
       "min       0.259689       1.000000       1.0       0.996753\n",
       "25%       2.318301       1.000000       1.0       5.281247\n",
       "50%       4.283160       1.000000       1.0       6.871241\n",
       "75%      11.923141       2.000000       1.0       8.257506\n",
       "max    1303.609284     152.000000       1.0      12.504262"
      ]
     },
     "execution_count": 10,
     "metadata": {},
     "output_type": "execute_result"
    }
   ],
   "source": [
    "df_A.describe()"
   ]
  },
  {
   "cell_type": "code",
   "execution_count": 11,
   "id": "05f18347",
   "metadata": {},
   "outputs": [
    {
     "data": {
      "text/html": [
       "<div>\n",
       "<style scoped>\n",
       "    .dataframe tbody tr th:only-of-type {\n",
       "        vertical-align: middle;\n",
       "    }\n",
       "\n",
       "    .dataframe tbody tr th {\n",
       "        vertical-align: top;\n",
       "    }\n",
       "\n",
       "    .dataframe thead th {\n",
       "        text-align: right;\n",
       "    }\n",
       "</style>\n",
       "<table border=\"1\" class=\"dataframe\">\n",
       "  <thead>\n",
       "    <tr style=\"text-align: right;\">\n",
       "      <th></th>\n",
       "      <th>revenue</th>\n",
       "      <th>num_purchases</th>\n",
       "      <th>purchase</th>\n",
       "      <th>av_site visit</th>\n",
       "    </tr>\n",
       "  </thead>\n",
       "  <tbody>\n",
       "    <tr>\n",
       "      <th>count</th>\n",
       "      <td>234.000000</td>\n",
       "      <td>234.000000</td>\n",
       "      <td>234.0</td>\n",
       "      <td>234.000000</td>\n",
       "    </tr>\n",
       "    <tr>\n",
       "      <th>mean</th>\n",
       "      <td>12.362119</td>\n",
       "      <td>1.841880</td>\n",
       "      <td>1.0</td>\n",
       "      <td>6.844776</td>\n",
       "    </tr>\n",
       "    <tr>\n",
       "      <th>std</th>\n",
       "      <td>19.007065</td>\n",
       "      <td>2.354021</td>\n",
       "      <td>0.0</td>\n",
       "      <td>3.970112</td>\n",
       "    </tr>\n",
       "    <tr>\n",
       "      <th>min</th>\n",
       "      <td>0.259373</td>\n",
       "      <td>1.000000</td>\n",
       "      <td>1.0</td>\n",
       "      <td>-5.646523</td>\n",
       "    </tr>\n",
       "    <tr>\n",
       "      <th>25%</th>\n",
       "      <td>2.319883</td>\n",
       "      <td>1.000000</td>\n",
       "      <td>1.0</td>\n",
       "      <td>4.009016</td>\n",
       "    </tr>\n",
       "    <tr>\n",
       "      <th>50%</th>\n",
       "      <td>3.980000</td>\n",
       "      <td>1.000000</td>\n",
       "      <td>1.0</td>\n",
       "      <td>7.143956</td>\n",
       "    </tr>\n",
       "    <tr>\n",
       "      <th>75%</th>\n",
       "      <td>12.274829</td>\n",
       "      <td>2.000000</td>\n",
       "      <td>1.0</td>\n",
       "      <td>9.776519</td>\n",
       "    </tr>\n",
       "    <tr>\n",
       "      <th>max</th>\n",
       "      <td>113.830000</td>\n",
       "      <td>25.000000</td>\n",
       "      <td>1.0</td>\n",
       "      <td>16.955948</td>\n",
       "    </tr>\n",
       "  </tbody>\n",
       "</table>\n",
       "</div>"
      ],
      "text/plain": [
       "          revenue  num_purchases  purchase  av_site visit\n",
       "count  234.000000     234.000000     234.0     234.000000\n",
       "mean    12.362119       1.841880       1.0       6.844776\n",
       "std     19.007065       2.354021       0.0       3.970112\n",
       "min      0.259373       1.000000       1.0      -5.646523\n",
       "25%      2.319883       1.000000       1.0       4.009016\n",
       "50%      3.980000       1.000000       1.0       7.143956\n",
       "75%     12.274829       2.000000       1.0       9.776519\n",
       "max    113.830000      25.000000       1.0      16.955948"
      ]
     },
     "execution_count": 11,
     "metadata": {},
     "output_type": "execute_result"
    }
   ],
   "source": [
    "df_B.describe()"
   ]
  },
  {
   "cell_type": "markdown",
   "id": "3935c8ce",
   "metadata": {},
   "source": [
    "Из графика и описательной статистики очевидно, что в группе A есть существенные выбросы, возможно был пользователь, который совершил такое количество покупок, но данная ситуация атипична, поэтому для дальнейшего исследования необходимо исключить выборосы."
   ]
  },
  {
   "cell_type": "code",
   "execution_count": 1,
   "id": "ca020a17",
   "metadata": {},
   "outputs": [
    {
     "ename": "NameError",
     "evalue": "name 'df_A' is not defined",
     "output_type": "error",
     "traceback": [
      "\u001b[1;31m---------------------------------------------------------------------------\u001b[0m",
      "\u001b[1;31mNameError\u001b[0m                                 Traceback (most recent call last)",
      "Cell \u001b[1;32mIn[1], line 1\u001b[0m\n\u001b[1;32m----> 1\u001b[0m df_A_clean \u001b[38;5;241m=\u001b[39m \u001b[43mdf_A\u001b[49m[df_A\u001b[38;5;241m.\u001b[39mrevenue \u001b[38;5;241m<\u001b[39m df_A\u001b[38;5;241m.\u001b[39mrevenue\u001b[38;5;241m.\u001b[39mquantile(\u001b[38;5;241m0.975\u001b[39m)]\n\u001b[0;32m      2\u001b[0m df_A_clean\u001b[38;5;241m.\u001b[39mdescribe()\n",
      "\u001b[1;31mNameError\u001b[0m: name 'df_A' is not defined"
     ]
    }
   ],
   "source": [
    "df_A_clean = df_A[df_A.revenue < df_A.revenue.quantile(0.975)]\n",
    "df_A_clean.describe()"
   ]
  },
  {
   "cell_type": "code",
   "execution_count": 13,
   "id": "68716581",
   "metadata": {},
   "outputs": [
    {
     "data": {
      "image/png": "[encoded data removed]",
      "text/plain": [
       "<Figure size 1500x400 with 2 Axes>"
      ]
     },
     "metadata": {},
     "output_type": "display_data"
    }
   ],
   "source": [
    "fig, (ax_boxplot, ay_boxplot) = plt.subplots(1, 2, figsize=(15, 4))\n",
    "\n",
    "\n",
    "ax_boxplot.set_title('Группа А')\n",
    "ay_boxplot.set_title('Группа B')\n",
    "sns.boxplot(data=df_A_clean, x='revenue', y='ab_group', color='r', ax=ax_boxplot)\n",
    "sns.boxplot(data=df_B, x='revenue', y='ab_group', color='b', ax=ay_boxplot);"
   ]
  },
  {
   "cell_type": "code",
   "execution_count": 14,
   "id": "f9dcb185",
   "metadata": {},
   "outputs": [
    {
     "name": "stdout",
     "output_type": "stream",
     "text": [
      "ARPPU (среднее значение) в группах A и B соответственно:\n",
      "9.4863\n",
      "12.3621\n"
     ]
    }
   ],
   "source": [
    "print('ARPPU (среднее значение) в группах A и B соответственно:')\n",
    "print(f\"{df_A_clean['revenue'].mean():.4f}\\n\" \n",
    "      f\"{df_B['revenue'].mean():.4f}\")"
   ]
  },
  {
   "cell_type": "code",
   "execution_count": 15,
   "id": "ee55365e",
   "metadata": {},
   "outputs": [
    {
     "name": "stdout",
     "output_type": "stream",
     "text": [
      "Медиана в группах A и B соответственно:\n",
      "4.0757\n",
      "3.9800\n"
     ]
    }
   ],
   "source": [
    "print('Медиана в группах A и B соответственно:')\n",
    "print(f\"{df_A_clean['revenue'].median():.4f}\\n\" \n",
    "      f\"{df_B['revenue'].median():.4f}\")"
   ]
  },
  {
   "cell_type": "markdown",
   "id": "31c8fcbe",
   "metadata": {},
   "source": [
    "Исключив существенные выбросы, мы получили достаточно близкие группы, выясним есть ли статистические значимые различия."
   ]
  },
  {
   "cell_type": "code",
   "execution_count": 16,
   "id": "4edda778",
   "metadata": {},
   "outputs": [
    {
     "data": {
      "image/png": "[encoded data removed]",
      "text/plain": [
       "<Figure size 1500x400 with 2 Axes>"
      ]
     },
     "metadata": {},
     "output_type": "display_data"
    }
   ],
   "source": [
    "fig, (ax_histplot, ay_histplot) = plt.subplots(1, 2, figsize=(15, 4))\n",
    "\n",
    "ax_histplot.set_title('Группа A')\n",
    "ay_histplot.set_title('Группа В')\n",
    "sns.histplot(df_A_clean['revenue'], bins=50, color='r', ax=ax_histplot)\n",
    "sns.histplot(df_B['revenue'], bins=50, color='b', ax=ay_histplot);"
   ]
  },
  {
   "cell_type": "code",
   "execution_count": 17,
   "id": "b03524b2",
   "metadata": {},
   "outputs": [
    {
     "data": {
      "text/plain": [
       "((249, 5), (234, 5))"
      ]
     },
     "execution_count": 17,
     "metadata": {},
     "output_type": "execute_result"
    }
   ],
   "source": [
    "df_A_clean.shape, df_B.shape"
   ]
  },
  {
   "cell_type": "markdown",
   "id": "1553b253",
   "metadata": {},
   "source": [
    "Из графика очевидно, что данные распределения не нормальные. И размер выборки небольшой, для оценки статистически значимых различий применим критерий Манна-Уитни."
   ]
  },
  {
   "cell_type": "code",
   "execution_count": 18,
   "id": "3d453fa9",
   "metadata": {},
   "outputs": [
    {
     "data": {
      "text/plain": [
       "MannwhitneyuResult(statistic=28097.5, pvalue=0.49940952593129473)"
      ]
     },
     "execution_count": 18,
     "metadata": {},
     "output_type": "execute_result"
    }
   ],
   "source": [
    "mannwhitneyu(df_A_clean.revenue.values, \n",
    "             df_B.revenue.values)"
   ]
  },
  {
   "cell_type": "markdown",
   "id": "96906020",
   "metadata": {},
   "source": [
    "p-value > 0.05 => нет статистически значимых различий, недостаточно оснований для отклонения нулевой гипотезы. \n",
    "\n",
    "Рассмотрим также метрику ARPU (показывает, сколько денег в среднем приносит компании один пользователь за определенный промежуток времени). Как правило эти метрики рассматривают совместно."
   ]
  },
  {
   "cell_type": "code",
   "execution_count": 19,
   "id": "5a222b51",
   "metadata": {},
   "outputs": [
    {
     "data": {
      "text/html": [
       "<div>\n",
       "<style scoped>\n",
       "    .dataframe tbody tr th:only-of-type {\n",
       "        vertical-align: middle;\n",
       "    }\n",
       "\n",
       "    .dataframe tbody tr th {\n",
       "        vertical-align: top;\n",
       "    }\n",
       "\n",
       "    .dataframe thead th {\n",
       "        text-align: right;\n",
       "    }\n",
       "</style>\n",
       "<table border=\"1\" class=\"dataframe\">\n",
       "  <thead>\n",
       "    <tr style=\"text-align: right;\">\n",
       "      <th></th>\n",
       "      <th>revenue</th>\n",
       "      <th>num_purchases</th>\n",
       "      <th>purchase</th>\n",
       "      <th>av_site visit</th>\n",
       "    </tr>\n",
       "  </thead>\n",
       "  <tbody>\n",
       "    <tr>\n",
       "      <th>count</th>\n",
       "      <td>19917.000000</td>\n",
       "      <td>19917.000000</td>\n",
       "      <td>19917.000000</td>\n",
       "      <td>19917.000000</td>\n",
       "    </tr>\n",
       "    <tr>\n",
       "      <th>mean</th>\n",
       "      <td>0.299960</td>\n",
       "      <td>0.042326</td>\n",
       "      <td>0.024502</td>\n",
       "      <td>7.016286</td>\n",
       "    </tr>\n",
       "    <tr>\n",
       "      <th>std</th>\n",
       "      <td>3.884460</td>\n",
       "      <td>0.398665</td>\n",
       "      <td>0.154604</td>\n",
       "      <td>3.140652</td>\n",
       "    </tr>\n",
       "    <tr>\n",
       "      <th>min</th>\n",
       "      <td>0.000000</td>\n",
       "      <td>0.000000</td>\n",
       "      <td>0.000000</td>\n",
       "      <td>-12.073486</td>\n",
       "    </tr>\n",
       "    <tr>\n",
       "      <th>25%</th>\n",
       "      <td>0.000000</td>\n",
       "      <td>0.000000</td>\n",
       "      <td>0.000000</td>\n",
       "      <td>5.180160</td>\n",
       "    </tr>\n",
       "    <tr>\n",
       "      <th>50%</th>\n",
       "      <td>0.000000</td>\n",
       "      <td>0.000000</td>\n",
       "      <td>0.000000</td>\n",
       "      <td>7.006503</td>\n",
       "    </tr>\n",
       "    <tr>\n",
       "      <th>75%</th>\n",
       "      <td>0.000000</td>\n",
       "      <td>0.000000</td>\n",
       "      <td>0.000000</td>\n",
       "      <td>8.863318</td>\n",
       "    </tr>\n",
       "    <tr>\n",
       "      <th>max</th>\n",
       "      <td>208.303751</td>\n",
       "      <td>25.000000</td>\n",
       "      <td>1.000000</td>\n",
       "      <td>22.446822</td>\n",
       "    </tr>\n",
       "  </tbody>\n",
       "</table>\n",
       "</div>"
      ],
      "text/plain": [
       "            revenue  num_purchases      purchase  av_site visit\n",
       "count  19917.000000   19917.000000  19917.000000   19917.000000\n",
       "mean       0.299960       0.042326      0.024502       7.016286\n",
       "std        3.884460       0.398665      0.154604       3.140652\n",
       "min        0.000000       0.000000      0.000000     -12.073486\n",
       "25%        0.000000       0.000000      0.000000       5.180160\n",
       "50%        0.000000       0.000000      0.000000       7.006503\n",
       "75%        0.000000       0.000000      0.000000       8.863318\n",
       "max      208.303751      25.000000      1.000000      22.446822"
      ]
     },
     "execution_count": 19,
     "metadata": {},
     "output_type": "execute_result"
    }
   ],
   "source": [
    "df_clean = df[df.num_purchases <= 25] # исключим существенные выбросы\n",
    "df_clean.describe()"
   ]
  },
  {
   "cell_type": "code",
   "execution_count": 20,
   "id": "22173a8d",
   "metadata": {},
   "outputs": [
    {
     "data": {
      "image/png": "[encoded data removed]",
      "text/plain": [
       "<Figure size 1500x400 with 2 Axes>"
      ]
     },
     "metadata": {},
     "output_type": "display_data"
    }
   ],
   "source": [
    "fig, (ax_histplot, ay_histplot) = plt.subplots(1, 2, figsize=(15, 4))\n",
    "\n",
    "ax_histplot.set_title('Группа A')\n",
    "ay_histplot.set_title('Группа В')\n",
    "sns.histplot(df_clean.query('ab_group == \"A\"')['revenue'], bins=50, color='r', ax=ax_histplot)\n",
    "sns.histplot(df_clean.query('ab_group == \"B\"')['revenue'], bins=50, color='b', ax=ay_histplot);"
   ]
  },
  {
   "cell_type": "code",
   "execution_count": 21,
   "id": "be20acc7",
   "metadata": {},
   "outputs": [
    {
     "data": {
      "text/plain": [
       "((9987, 5), (9930, 5))"
      ]
     },
     "execution_count": 21,
     "metadata": {},
     "output_type": "execute_result"
    }
   ],
   "source": [
    "df_clean.query('ab_group == \"A\"').shape, df_clean.query('ab_group == \"B\"').shape"
   ]
  },
  {
   "cell_type": "markdown",
   "id": "b8e3a150",
   "metadata": {},
   "source": [
    "Очевидно, что распределение не является нормальным, но у нас много наблюдений, поэтому рассмотрим тесты Манна-Уитни и критерий Стьюдента."
   ]
  },
  {
   "cell_type": "code",
   "execution_count": 22,
   "id": "f14e98ac",
   "metadata": {},
   "outputs": [
    {
     "data": {
      "text/plain": [
       "MannwhitneyuResult(statistic=49677629.5, pvalue=0.3962510896528323)"
      ]
     },
     "execution_count": 22,
     "metadata": {},
     "output_type": "execute_result"
    }
   ],
   "source": [
    "mannwhitneyu(df_clean.query('ab_group == \"A\"').revenue.values, \n",
    "             df_clean.query('ab_group == \"B\"').revenue.values)"
   ]
  },
  {
   "cell_type": "code",
   "execution_count": 23,
   "id": "03aedab3",
   "metadata": {},
   "outputs": [
    {
     "data": {
      "text/plain": [
       "Ttest_indResult(statistic=0.31342797331934313, pvalue=0.7539589469700184)"
      ]
     },
     "execution_count": 23,
     "metadata": {},
     "output_type": "execute_result"
    }
   ],
   "source": [
    "ttest_ind(df_clean.query('ab_group == \"A\"').revenue.values, \n",
    "             df_clean.query('ab_group == \"B\"').revenue.values, equal_var = False)"
   ]
  },
  {
   "cell_type": "markdown",
   "id": "65f8e641",
   "metadata": {},
   "source": [
    "В результате расчета по обоим критериям pvalue > 0.05 => нет статистически значимых различий.\n",
    "\n",
    "Расчитаем мощность нашего теста."
   ]
  },
  {
   "cell_type": "code",
   "execution_count": 24,
   "id": "894dc8fb",
   "metadata": {},
   "outputs": [
    {
     "name": "stdout",
     "output_type": "stream",
     "text": [
      "Мощность теста составляет: 6.14%\n"
     ]
    }
   ],
   "source": [
    "alpha = 0.05\n",
    "\n",
    "C_mean = df_clean.query('ab_group == \"A\"')['revenue'].values.mean()\n",
    "T_mean = df_clean.query('ab_group == \"B\"')['revenue'].values.mean()\n",
    "\n",
    "C_std = df_clean.query('ab_group == \"A\"')['revenue'].values.std()\n",
    "T_std = df_clean.query('ab_group == \"B\"')['revenue'].values.std()\n",
    "\n",
    "S = np.sqrt((T_std**2 + C_std **2)/ 2)\n",
    "effect_size =float((T_mean-C_mean)/ S)\n",
    "\n",
    "n = df_clean.query('ab_group == \"A\"').shape[0]\n",
    "\n",
    "analysis = TTestIndPower()\n",
    "result = analysis.solve_power(effect_size=effect_size, power=None, nobs1=n, ratio=1.0, alpha=alpha)\n",
    "print(f'Мощность теста составляет: {result*100:.2f}%')"
   ]
  },
  {
   "cell_type": "markdown",
   "id": "46d87e9e",
   "metadata": {},
   "source": [
    "Мощность теста составляет 6.14%, что является критически низким для принятия верного решения, так как с таким значением мощности мы имеем очень низкую вероятность обнаружить статистически значимые различия. Для увеличения мощности необходимо увеличить размер выборки:"
   ]
  },
  {
   "cell_type": "code",
   "execution_count": 25,
   "id": "3adf83b6",
   "metadata": {},
   "outputs": [
    {
     "data": {
      "text/plain": [
       "(796036, 80)"
      ]
     },
     "execution_count": 25,
     "metadata": {},
     "output_type": "execute_result"
    }
   ],
   "source": [
    "power = 0.8\n",
    "N = analysis.solve_power(effect_size=effect_size, power=power, nobs1=None, ratio=1.0, alpha=alpha)\n",
    "round(N), round(N/n)"
   ]
  },
  {
   "cell_type": "markdown",
   "id": "89637fbb",
   "metadata": {},
   "source": [
    "## Выводы:\n",
    "\n",
    "Таким образом, для A/B-теста по данным метрикам у нас недостаточно данных для обнаружения статистически значимых различий, если они действительно есть. Hеобходимо увеличить размер выборки для группы в 80 раз и повторить эксперимент. По полученным результатам у нас недостаточно оснований для отклонения нулевой гипотезы. Необходимо провести тест еще раз, значительно увеличив размер выборки."
   ]
  },
  {
   "cell_type": "markdown",
   "id": "4ab00885",
   "metadata": {},
   "source": [
    "## Кейс №3\n",
    "\n",
    "Мы хотим провести А/Б-тест для трех источников трафика. Нынешняя конверсия равна 5%, мы ожидаем прирост в 0,2%.\n",
    "Уровень доверия 97% и уровень мощности 87%.\n",
    "Всего на наш продукт заходит 40 000 пользователей в месяц.\n",
    "\n",
    "1) За сколько дней мы сможем протестировать гипотезу? И что вы можете посоветовать по результатам подсчета?\n",
    "\n",
    "2) Допустим в задаче нет проблемы с количеством посетителей на сайт, тогда подведите результаты тестирования, если у нас следующие результаты по количеству конверсии:\n",
    "\n",
    "    - 25 000\n",
    "    - 30 000\n",
    "    - 32 000"
   ]
  },
  {
   "cell_type": "markdown",
   "id": "9fce0f5a",
   "metadata": {},
   "source": [
    "**РЕШЕНИЕ:**\n",
    "\n",
    "1. Воспользуемя [калькулятор](https://mindbox.ru/tools/ab-test-calculator/) для расчета размера выборки\n",
    "\n",
    "    <img src=\"3.1.jpg\" alt=\"3.1\" width=70%>"
   ]
  },
  {
   "cell_type": "code",
   "execution_count": 27,
   "id": "be763558",
   "metadata": {},
   "outputs": [
    {
     "name": "stdout",
     "output_type": "stream",
     "text": [
      "Мы можем провести наш тест за 13 месяцев.\n"
     ]
    }
   ],
   "source": [
    "days = round(516_176 / 40_000)\n",
    "print(f'Мы можем провести наш тест за {days} месяцев.')"
   ]
  },
  {
   "cell_type": "markdown",
   "id": "66d6860b",
   "metadata": {},
   "source": [
    "2. Воспользуемя [калькулятор](https://mindbox.ru/tools/ab-test-calculator/) для расчета\n",
    "\n",
    "<img src=\"3.2.jpg\" alt=\"3.2\" width=70%>"
   ]
  },
  {
   "cell_type": "markdown",
   "id": "3523fa12",
   "metadata": {},
   "source": [
    "## Кейс №4\n",
    "\n",
    "Вы решили сравнивать метрику CPA в двух группах. Размер выборки - 2350 элементов в\n",
    "каждой группе.\n",
    "\n",
    "Для проверки нормальности распределения на выборке в 2350 наблюдений применили,\n",
    "критерий Шапиро-Уилка и получили p-value, равный 0.00002, alpha = 5%.\n",
    "\n",
    "Какой бы вывод мы могли сделать в данном случае?\n",
    "В этом случае какой статистический критерий для проверки первоначальной гипотезы тут лучше\n",
    "всего подойдёт и почему ?\n",
    "\n",
    "\n",
    "**ОТВЕТ:** \n",
    "\n",
    "Условие применение критерия Шапиро-Уилка - размер выборки должен быть не более 2000! В нашем случае объем выборки 2350 наблюдений, таким образом данный тест не валидный, делать выводы о нормальности распределения по результатом этого теста не рекомендуется. Необходимо применить тест Колмагорова-Смирнова, также можно построить QQplot и гистограмму для анализа распределения на выборке. Если распределение нормальное, то для оценки статистичской значимости различий в группах можно применить критерий Стьюдента, иначе Манна-Уитни или применить метод бутстрап. "
   ]
  },
  {
   "cell_type": "markdown",
   "id": "471e00ee",
   "metadata": {},
   "source": [
    "## Кейс №5\n",
    "\n",
    "Мы провели АБ-тест на увеличение average timespent per user. По итогам тестирования мы\n",
    "получили следующие данные. \n",
    "\n",
    "Является ли результат статистически значимым с уровнем\n",
    "доверия 80%? Какую версию мы выкатим на продакшн?\n",
    "\n",
    "A) Средняя - 360, отклонение - 40, количество - 9802\n",
    "\n",
    "B) Средняя - 352, отклонение - 58, количество - 9789\n",
    "\n",
    "\n",
    "**РЕШЕНИЕ:**\n",
    "\n",
    "Для решения воспользуемся [калькулятором](https://www.evanmiller.org/ab-testing/t-test.html)\n",
    "\n",
    "<img src=\"5.jpg\" alt=\"5\" width=70%>\n",
    "\n",
    "В результате расчета получили p-value значительно меньше заданного уровня (p < 0.001). Из графиков очевидно, что доверительные интервалы не пересекаются, таким образом статистически значимые различия есть. Группа А лучше => выкатываем в прдакшн."
   ]
  },
  {
   "cell_type": "markdown",
   "id": "c1f22d66",
   "metadata": {},
   "source": [
    "## Кейс №6\n",
    "\n",
    "Создайте техническую архитектуру проекта по аб тестированию продукта он-лайн кинотеатра с учетом кросс-девайс аналитики по следующей гипотезе:\n",
    "\n",
    "Если договориться с банком о 99% кэшбэке на подписку первого месяца, то это повысит\n",
    "конверсию в подписку на 30%, благодаря упрощенному принятию решения со стороны\n",
    "пользователя.\n",
    "\n",
    "На схеме необходимо отобразить:\n",
    "\n",
    "1) Управленческий процесс по договоренностям с внешними партнерами\n",
    "\n",
    "2) Архитектуру данных с указанием систем, из которых будем скачивать данные\n",
    "\n",
    "3) Внутрикомандное взаимодействие"
   ]
  },
  {
   "cell_type": "markdown",
   "id": "1c3ede93",
   "metadata": {},
   "source": [
    "**ОТВЕТ:**\n",
    "\n",
    "1) Управленческий процесс по договоренностям с внешними партнерами:\n",
    "- Менеджер по взаимодействию с внешними партнерами согласовывает условия с банком для предоставления кэшбэка на подписку первого месяца.\n",
    "\n",
    "2) Архитектура данных:\n",
    "- Система управления клиентскими данными (CRM) для получения данных о клиентах и их активности на платформе.\n",
    "- Аналитические инструменты для сбора и анализа данных о конверсии в подписку после внедрения кэшбэка (Яндекс Метрика, Google Analytics).\n",
    "- Мобильные и веб-платформы для отслеживания активности пользователей на различных устройствах.\n",
    "- Базы данных для хранения и обработки данных.\n",
    "\n",
    "3) Внутрикомандное взаимодействие:\n",
    "- Менеджер по маркетингу и продукту для разработки и внедрения новых маркетинговых акций и продуктовых улучшений на основе данных о конверсии и активности пользователей.\n",
    "- Аналитики для анализа данных и внедрения изменений в продуктовую логику и интерфейс на основе результатов тестирования.\n",
    "- Команда по внедрению (разаработчики, тестировщики) для технической реализации изменений в продукте и тестирования ПО."
   ]
  }
 ],
 "metadata": {
  "kernelspec": {
   "display_name": "Python 3 (ipykernel)",
   "language": "python",
   "name": "python3"
  },
  "language_info": {
   "codemirror_mode": {
    "name": "ipython",
    "version": 3
   },
   "file_extension": ".py",
   "mimetype": "text/x-python",
   "name": "python",
   "nbconvert_exporter": "python",
   "pygments_lexer": "ipython3",
   "version": "3.11.1"
  }
 },
 "nbformat": 4,
 "nbformat_minor": 5
}
